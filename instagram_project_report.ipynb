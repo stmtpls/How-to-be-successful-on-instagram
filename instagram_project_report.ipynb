{
 "cells": [
  {
   "cell_type": "markdown",
   "metadata": {},
   "source": [
    "# National Geographic - Instagram and image analytics"
   ]
  },
  {
   "cell_type": "markdown",
   "metadata": {},
   "source": [
    "## 01. Scraping Instagram and collecting posts"
   ]
  },
  {
   "cell_type": "markdown",
   "metadata": {},
   "source": [
    "I used a dedicated browser scraper extension for extracting image urls and corresponding likes and comments from the National Geographic's (NatGeo) instagram page. Since this scraper does not automatically scroll infinitely on the official instagram application, I used a secondary website 'picbon.com' which is an exact reflection of the instagram application and allows auto infinite scrolling while scraping."
   ]
  },
  {
   "cell_type": "markdown",
   "metadata": {},
   "source": [
    "![graph](graph.jpeg)"
   ]
  },
  {
   "cell_type": "markdown",
   "metadata": {},
   "source": [
    "## 02. Calculating Engagement"
   ]
  },
  {
   "cell_type": "code",
   "execution_count": 176,
   "metadata": {},
   "outputs": [],
   "source": [
    "import pandas as pd\n",
    "pd.set_option('display.max_columns', None)\n",
    "pd.set_option('display.max_colwidth', 10000)"
   ]
  },
  {
   "cell_type": "markdown",
   "metadata": {},
   "source": [
    "After scrapping posts from instagram I came up with a list of 634 posts, including information about the number of likes and comments realted to each post, the caption (description of the post) and the url of the post's image."
   ]
  },
  {
   "cell_type": "code",
   "execution_count": 177,
   "metadata": {},
   "outputs": [],
   "source": [
    "instagram_posts = pd.read_csv('instagram.csv')"
   ]
  },
  {
   "cell_type": "code",
   "execution_count": 178,
   "metadata": {},
   "outputs": [
    {
     "data": {
      "text/html": [
       "<div>\n",
       "<style scoped>\n",
       "    .dataframe tbody tr th:only-of-type {\n",
       "        vertical-align: middle;\n",
       "    }\n",
       "\n",
       "    .dataframe tbody tr th {\n",
       "        vertical-align: top;\n",
       "    }\n",
       "\n",
       "    .dataframe thead th {\n",
       "        text-align: right;\n",
       "    }\n",
       "</style>\n",
       "<table border=\"1\" class=\"dataframe\">\n",
       "  <thead>\n",
       "    <tr style=\"text-align: right;\">\n",
       "      <th></th>\n",
       "      <th>likes</th>\n",
       "      <th>comments</th>\n",
       "      <th>caption</th>\n",
       "      <th>url</th>\n",
       "    </tr>\n",
       "  </thead>\n",
       "  <tbody>\n",
       "    <tr>\n",
       "      <th>0</th>\n",
       "      <td>444841</td>\n",
       "      <td>2107</td>\n",
       "      <td>Photo By @BrianSkerry\\nA West Indian Manatee calf nurses from its mom as they settle down on the sandy sea floor in the waters off the coast of Belize, an important country for these endangered animals. Manatees here live in mangroves and often sleep there overnight and feed on nearby sea grass beds during the day. Unlike Florida manatees, these animals are not nearly as acclimated to humans and are shyer. On this morning however, this very relaxed mom and calf allowed me into their world.\\nFor more images and stories about ocean wildlife follow @BrianSkerry\\n#manatees  #belize  #mesoamericanreef  #endangeredspecies</td>\n",
       "      <td>https://scontent-sea1-1.cdninstagram.com/vp/3a1c818472deb760c090c7f3f6a8fcf7/5C711986/t51.2885-15/fr/e15/s1080x1080/39625475_248078652711752_6559076309861924864_n.jpg?ig_cache_key=MTg1MzAwNjU3NzQ2OTk3MzUzNw%3D%3D.2</td>\n",
       "    </tr>\n",
       "  </tbody>\n",
       "</table>\n",
       "</div>"
      ],
      "text/plain": [
       "    likes  comments  \\\n",
       "0  444841      2107   \n",
       "\n",
       "                                                                                                                                                                                                                                                                                                                                                                                                                                                                                                                                                                                                                                           caption  \\\n",
       "0  Photo By @BrianSkerry\\nA West Indian Manatee calf nurses from its mom as they settle down on the sandy sea floor in the waters off the coast of Belize, an important country for these endangered animals. Manatees here live in mangroves and often sleep there overnight and feed on nearby sea grass beds during the day. Unlike Florida manatees, these animals are not nearly as acclimated to humans and are shyer. On this morning however, this very relaxed mom and calf allowed me into their world.\\nFor more images and stories about ocean wildlife follow @BrianSkerry\\n#manatees  #belize  #mesoamericanreef  #endangeredspecies   \n",
       "\n",
       "                                                                                                                                                                                                                      url  \n",
       "0  https://scontent-sea1-1.cdninstagram.com/vp/3a1c818472deb760c090c7f3f6a8fcf7/5C711986/t51.2885-15/fr/e15/s1080x1080/39625475_248078652711752_6559076309861924864_n.jpg?ig_cache_key=MTg1MzAwNjU3NzQ2OTk3MzUzNw%3D%3D.2  "
      ]
     },
     "execution_count": 178,
     "metadata": {},
     "output_type": "execute_result"
    }
   ],
   "source": [
    "instagram_posts.head()[:1]"
   ]
  },
  {
   "cell_type": "markdown",
   "metadata": {},
   "source": [
    "Using the above collected urls and the Google Vision API, I came up with a list of labels for each post, while using the number of likes and comments I calculated engagement values for each post using the below formula:\n",
    "\n",
    "$$EngagementValue = 0.4\\frac{likes}{max Likes} + 0.6\\frac{comments}{max Comments}$$ "
   ]
  },
  {
   "cell_type": "markdown",
   "metadata": {},
   "source": [
    "Using this formula and the overall median engagement value of all the posts, I set the \"Engagement\" parameter as 1 (there was engagement related to a post) for all posts that had EngagementValue above or equal to the median and 0 for the rest of the posts, classifying all our posts into two discrete categories. \n",
    "\n",
    "It was important to take into account the relevant engagement of each post, identifying the posts that were popular in relation to the rest of the National Geographic posts."
   ]
  },
  {
   "cell_type": "code",
   "execution_count": 179,
   "metadata": {},
   "outputs": [
    {
     "name": "stdout",
     "output_type": "stream",
     "text": [
      "0.020126471037750268 0.25682237012267217 1 ['marine mammal', 'fauna', 'water', 'mammal', 'marine biology', 'underwater', 'manatee', 'organism', 'wildlife', 'dugong']\n",
      "0.03027090019868562 0.3020421500886787 1 ['arctic ocean', 'arctic', 'ice', 'polar ice cap', 'ice cap', 'freezing', 'sea', 'ocean', 'sea ice', 'sky']\n",
      "0.006543252330735137 0.22235314901714454 1 ['highland', 'sky', 'mountain', 'wilderness', 'cloud', 'geological phenomenon', 'escarpment', 'national park', 'rock', 'ridge']\n",
      "0.03754967140455449 0.6240716449896542 1 ['water', 'black and white', 'marine mammal', 'ocean', 'wave', 'sea', 'whales dolphins and porpoises', 'monochrome photography', 'monochrome', 'wind wave']\n",
      "0.0030471496255540273 0.09648195019213715 0 ['sea', 'sail', 'water', 'sailing', 'ocean', 'sailboat', 'sailing ship', 'mast', 'sailing', 'sky']\n",
      "0.008176677365123033 0.24160612344812296 1 ['canyon', 'rock', 'narrows', 'formation', 'geological phenomenon', 'geology', 'wadi', 'fault', 'sky', 'terrain']\n",
      "0.004585052728106373 0.14566802301950932 0 ['sea', 'sky', 'coast', 'cloud', 'water', 'coastal and oceanic landforms', 'bay', 'shore', 'loch', 'ocean']\n",
      "0.01103278312700596 0.24876334798994976 1 ['flower', 'plant', 'flora', 'wildflower', 'sky', 'spring', 'coast', 'landscape', 'water']\n",
      "0.006161164603392939 0.18763856044930535 0 ['nature', 'sky', 'atmosphere', 'geological phenomenon', 'mountain range', 'mountain', 'snow', 'freezing', 'terrain', 'night']\n",
      "0.6175492893168272 1.0 1 ['orangutan', 'mammal', 'great ape', 'primate', 'terrestrial animal', 'wildlife', 'fauna', 'rainforest', 'jungle', 'organism']\n",
      "0.11067171022466758 0.26033083616612473 1 ['flame', 'fire', 'roasting', 'wood', 'animal source foods']\n",
      "0.19176983035304906 0.6878308130727165 1 ['surgeon', 'operating theater', 'service', 'medical', 'hospital']\n",
      "0.012408298945437872 0.2946170420115282 1 ['sea', 'coastal and oceanic landforms', 'body of water', 'ocean', 'shore', 'sky', 'horizon', 'coast', 'wave', 'water']\n",
      "0.006189821182943604 0.15481301267366243 0 ['bird', 'seabird', 'albatross', 'water', 'sea', 'wave', 'ocean', 'fauna', 'beak', 'wind wave']\n",
      "0.025876891334250345 0.23144040515075376 1 ['climbing', 'rock climbing', 'rock', 'sport climbing', 'adventure', 'tree', 'outdoor recreation', 'rock climbing equipment', 'outcrop', 'free climbing']\n",
      "0.006476386978450252 0.13288870824711793 0 ['bazaar', 'public space', 'marketplace', 'market', 'shopkeeper', 'city']\n",
      "0.015780223139232767 0.40485458080845405 1 ['wildlife', 'lion', 'mammal', 'fauna', 'terrestrial animal', 'masai lion', 'big cats', 'zoo', 'organism', 'cat like mammal']\n",
      "1.0 0.8895702085796631 1 ['rhinoceros', 'mammal', 'wildlife', 'terrestrial animal', 'fauna', 'horn', 'eye', 'snout', 'organism', 'grass']\n",
      "0.0069731010239951095 0.08569559654892107 0 ['fun', 'recreation', 'girl', 'leisure']\n",
      "0.004556396148555708 0.07165191767661838 0 ['photograph', 'black', 'person', 'man', 'tree', 'sitting', 'darkness', 'photography', 'male', 'snapshot']\n",
      "0.03128343267614244 0.1778486873706769 1 ['sitting', 'human body', 'temple', 'human', 'religion', 'human behavior', 'girl']\n",
      "0.017107977991746907 0.2908256817174106 1 ['rhinoceros', 'terrestrial animal', 'fauna', 'wildlife', 'horn', 'snout', 'zoo', 'elephant', 'grass']\n",
      "0.00680116154669112 0.10287362825155187 0 ['soldier', 'army', 'military', 'troop', 'black and white', 'military organization', 'infantry', 'military person', 'military officer', 'monochrome photography']\n",
      "0.02873299709613327 0.411901534326042 1 ['fauna', 'bird', 'beak', 'wildlife', 'lark']\n",
      "0.005845942228335626 0.1361766322420928 0 ['photograph', 'water', 'tree', 'photography', 'plant', 'grass', 'fun', 'girl', 'interaction', 'darkness']\n",
      "0.007956976921901268 0.2606033383830919 1 ['badlands', 'sky', 'butte', 'mountainous landforms', 'historic site', 'mountain', 'wilderness', 'highland', 'dawn', 'national park']\n",
      "0.004823857557695247 0.12100368570795152 0 ['tree', 'woody plant', 'plant', 'forest', 'branch', 'sky', 'grass', 'shrubland', 'jungle', 'landscape']\n",
      "0.006294895307962708 0.15706000129323086 0 ['wildlife', 'lycaon pictus', 'mammal', 'fauna', 'snout', 'carnivoran', 'terrestrial animal', 'grass']\n",
      "0.027672703652758673 0.26262227959651196 1 ['arctic fox', 'dog like mammal', 'fox', 'fur', 'volpino italiano', 'snout', 'wildlife', 'whiskers', 'dog breed group', 'german spitz klein']\n",
      "0.024214809720311783 0.2559690686890334 1 ['mammal', 'fauna', 'otter', 'snout', 'water', 'wildlife', 'mustelidae']\n",
      "0.007030414183096439 0.2156808860478865 1 ['sky', 'atmosphere', 'mist', 'morning', 'savanna', 'tree', 'grass', 'landscape', 'sunlight', 'grassland']\n",
      "0.007565337001375516 0.18082427301950932 0 ['water', 'duck', 'bird', 'vertebrate', 'reflection', 'mallard', 'water bird', 'waterfowl', 'ducks geese and swans', 'beak']\n",
      "0.008520556319731011 0.17902933786579958 0 ['water', 'nature', 'reflection', 'body of water', 'leaf', 'tree', 'autumn', 'river', 'plant', 'stream']\n",
      "0.0269467369708085 0.1879104853310671 1 ['military', 'soldier', 'army', 'muscle', 'sculpture']\n",
      "0.038084594222833563 0.1505817229530003 1 ['human body', 'temple', 'human', 'street', 'material', 'statue', 'fun']\n",
      "0.017690661775943757 0.20265331713715637 1 ['herd', 'wildlife', 'cattle like mammal', 'grass', 'grassland', 'grazing', 'pasture', 'terrestrial animal', 'savanna', 'horn']\n",
      "0.005320571603240104 0.1427426655335501 0 ['waterway', 'water', 'water resources', 'river', 'sea', 'wetland', 'shore', 'coastal and oceanic landforms', 'coast', 'horizon']\n",
      "0.01014442916093535 0.24502106118829442 1 ['tree', 'trunk', 'woodland', 'forest', 'branch', 'wood', 'old growth forest', 'plant', 'twig', 'grass']\n",
      "0.004298486932599725 0.13533718685338458 0 ['sky', 'mountainous landforms', 'mountain', 'mountain range', 'rock', 'freezing', 'atmosphere', 'tree', 'geological phenomenon', 'snow']\n",
      "0.008902644047073208 0.2327671214528525 1 ['wildlife', 'mammal', 'terrestrial animal', 'fauna', 'wilderness', 'organism', 'big cats', 'whiskers', 'snout', 'grass']\n",
      "0.006638774262570687 0.13267682622672183 0 ['climbing', 'rock', 'formation', 'adventure', 'narrows', 'geology', 'rock climbing', 'canyon', 'recreation', 'sport climbing']\n",
      "0.003601176830200214 0.11265541863730416 0 ['girl', 'human', 'sky', 'sunlight', 'fun', 'evening', 'sand', 'vacation', 'shadow']\n",
      "0.004852514137245911 0.12805525790718297 0 ['tractor', 'agricultural machinery', 'vehicle', 'mode of transport', 'farm', 'field', 'rural area', 'agriculture', 'motor vehicle', 'soil']\n",
      "0.03234372611951704 0.38506872598285546 1 ['fauna', 'soldier', 'soil', 'grass', 'organism', 'military organization', 'snout', 'wildlife', 'grass family', 'jungle']\n",
      "0.0033241632278771206 0.09625563479160508 0 ['geological phenomenon', 'wadi', 'sand', 'rock', 'mountain', 'geology', 'adventure', 'recreation', 'tourism', 'terrain']\n",
      "0.009762341433593153 0.1447240799586166 0 ['pack animal', 'troop', 'horse like mammal', 'army', 'horse harness', 'tree', 'horse', 'soldier', 'plant', 'infantry']\n",
      "0.0069731010239951095 0.12111799807862844 0 ['leg', 'arm', 'hand', 'child', 'girl', 'muscle', 'finger', 'abdomen', 'trunk', 'chest']\n",
      "0.01271396912731163 0.24872813054241796 1 ['brown bear', 'mammal', 'wilderness', 'nature reserve', 'bear', 'terrestrial animal', 'wildlife', 'american black bear', 'grizzly bear', 'forest']\n",
      "0.005540272046461868 0.171406781148389 0 ['sky', 'mountainous landforms', 'mountain', 'mountain range', 'cloud', 'mount scenery', 'glacial landform', 'arctic', 'daytime', 'nunatak']\n",
      "0.00600832951245606 0.10766262378066804 0 ['water', 'recreation', 'vacation', 'fun', 'leisure']\n",
      "0.00846324316062968 0.22030187703221993 1 ['water', 'marine mammal', 'marine biology', 'whales dolphins and porpoises', 'whale', 'humpback whale', 'organism', 'sea', 'wildlife', 'ocean']\n",
      "0.026364053186611645 0.4306822485589713 1 ['wildlife', 'lion', 'terrestrial animal', 'mammal', 'fauna', 'grassland', 'wilderness', 'grass', 'masai lion', 'big cats']\n",
      "0.004422665443985939 0.06591666974578776 0 ['event', 'crowd', 'tradition', 'girl', 'ceremony', 'costume']\n",
      "0.004728335625859698 0.17951834078480639 0 ['mountain', 'mountainous landforms', 'sky', 'wilderness', 'winter', 'mountain range', 'geological phenomenon', 'massif', 'stratovolcano', 'freezing']\n",
      "0.009170105456212746 0.1911198917381023 1 ['white', 'black', 'black and white', 'marine mammal', 'monochrome photography', 'fauna', 'photography', 'whales dolphins and porpoises', 'monochrome', 'dolphin']\n",
      "0.0025217790004585052 0.07459748189476796 0 ['temple', 'darkness', 'night', 'girl', 'fun']\n",
      "0.009924728717713587 0.19016093796186817 1 ['fauna', 'beak', 'bird', 'water bird', 'sky', 'wildlife']\n",
      "0.011137857252025065 0.19596835279337865 1 ['sand', 'sky', 'horizon', 'morning', 'landscape', 'ecoregion', 'sunlight', 'line', 'aeolian landform', 'cloud']\n",
      "0.004460874216720159 0.12469228033550103 0 ['vegetation', 'forest', 'nature reserve', 'rainforest', 'ecosystem', 'tropical and subtropical coniferous forests', 'tree', 'wilderness', 'jungle', 'shrubland']\n",
      "0.0029707320800855877 0.08596059340821756 0 ['hand', 'finger', 'human', 'temple', 'fun']\n",
      "0.005645346171480972 0.1594259209651197 0 ['mountain village', 'city', 'town', 'urban area', 'village', 'mountain', 'hill station', \"bird's eye view\", 'residential area', 'rural area']\n",
      "0.013478144581996027 0.26679410379101387 1 ['mammal', 'vertebrate', 'plant', 'grass', 'tribe', 'tree', 'hand', 'soil', 'finger', 'wildlife']\n",
      "0.017069769219012685 0.261941024054094 1 ['nature', 'green', 'aurora', 'atmosphere', 'sky', 'night', 'landscape', 'midnight', 'grass']\n",
      "0.007259666819501758 0.07191980121194207 0 ['human', 'darkness', 'fun']\n",
      "0.019773039889958734 0.370658439255099 1 ['wildlife', 'fauna', 'mammal', 'wolf', 'wilderness', 'coyote', 'snout', 'tree']\n",
      "0.04393053645116919 0.2195149691472066 1 ['fish', 'fish', 'animal source foods']\n",
      "0.01107099189974018 0.20030298551581435 1 ['waterway', 'reflection', 'water', 'canal', 'building', 'condominium', 'neighbourhood', 'apartment', 'city', 'tree']\n",
      "0.01280949105914718 0.20707743681643512 1 ['marine mammal', 'fauna', 'mammal', 'marine biology', 'water', 'underwater', 'whales dolphins and porpoises', 'wildlife', 'organism', 'dolphin']\n",
      "0.014347394161699526 0.2968166891442507 1 ['brown bear', 'grizzly bear', 'bear', 'terrestrial animal', 'wildlife', 'american black bear', 'fur', 'organism', 'snout', 'carnivoran']\n",
      "0.00931338835396607 0.2428837662577594 1 ['elephants and mammoths', 'mammal', 'wildlife', 'wilderness', 'tree', 'path', 'elephant', 'forest', 'jungle', 'national park']\n",
      "0.005406541341892099 0.09136906961276973 0 ['tradition', 'temple', 'human', 'ritual', 'religion', 'middle ages']\n",
      "0.01118561821794284 0.22139592724652676 1 ['reflection', 'water', 'waterway', 'night', 'tree', 'city', 'evening', 'street', 'screenshot', 'sky']\n",
      "0.0050053492281827905 0.09022074988915164 0 ['darkness', 'light', 'night', 'performance art', 'event', 'midnight']\n",
      "0.010708008558765093 0.2043934054463494 1 ['beak', 'neck', 'bird', 'feather']\n",
      "0.01033547302460645 0.2847220939255099 1 ['elephant', 'elephants and mammoths', 'black and white', 'wildlife', 'indian elephant', 'mammal', 'monochrome photography', 'fauna', 'african elephant', 'terrestrial animal']\n",
      "0.158289393244689 0.5330651418859 1 ['three toed sloth', 'mammal', 'fauna', 'sloth', 'terrestrial animal', 'snout', 'organism', 'fur', 'meerkat']\n",
      "0.00927517958123185 0.12755355361365653 0 ['temple', 'human behavior', 'religion']\n",
      "0.009647715115390493 0.09292267865060597 0 ['black and white', 'infrastructure', 'monochrome photography', 'street', 'snapshot', 'car', 'photography', 'monochrome', 'vehicle', 'road']\n",
      "0.007899663762799939 0.10423498466597694 0 ['sky', 'construction', 'residential area', 'neighbourhood', 'home', 'house', 'track', 'recreation', 'vehicle', 'building']\n",
      "0.007336084364970197 0.16146391424031925 0 ['cave', 'formation', 'rock', 'organism', 'caving', 'geology', 'art', 'darkness', 'stock photography', 'speleothem']\n",
      "0.006868026898976005 0.12752180017735737 0 ['play', 'toy', 'house', 'recreation', 'fun', 'child']\n",
      "0.010058459422283356 0.16190846234850725 0 ['flora', 'plant', 'leaf', 'tree', 'branch', 'twig', 'still life photography', 'black and white', 'flower', 'computer wallpaper']\n",
      "0.011548601558917928 0.12253651067839195 0 ['person', 'monk', 'chin', 'temple', 'elder', 'glasses', 'vision care', 'senior citizen', 'zen master', 'sangharaja']\n",
      "0.021072138162922208 0.12162027970736033 0 ['art', 'flower', 'tradition', 'painting', 'material', 'fun', 'plant', 'watercolor paint']\n",
      "0.013067400275103164 0.2664650227239137 1 ['flora', 'plant', 'flower', 'flowering plant', 'wildflower', 'cactus', 'petal', 'sky', 'plant stem', 'spring']\n",
      "0.0035629680574659943 0.12720830716080403 0 ['herd', 'sky', 'pasture', 'grassland', 'wilderness', 'mountainous landforms', 'tree', 'nature reserve', 'mountain', 'wildlife']\n",
      "0.022342579856335015 0.42915057825894176 1 ['leopard', 'jaguar', 'wildlife', 'terrestrial animal', 'mammal', 'fauna', 'big cats', 'cheetah', 'carnivoran', 'organism']\n",
      "0.009991594069998472 0.26976911210464083 1 ['wildlife', 'mammal', 'lion', 'grassland', 'wilderness', 'terrestrial animal', 'fauna', 'masai lion', 'safari', 'big cats']\n",
      "0.03551505425645728 0.49930488841265147 1 ['brown bear', 'grizzly bear', 'mammal', 'bear', 'wildlife', 'fauna', 'wilderness', 'terrestrial animal', 'organism', 'snout']\n",
      "0.032305517346782824 0.4050860922258351 1 ['pomacentridae', 'vertebrate', 'marine biology', 'anemone fish', 'fish', 'organism', 'fish', 'underwater', 'coral reef fish', 'sea anemone']\n",
      "0.02492167201589485 0.4227935403118534 1 ['vegetation', 'ecosystem', 'nature reserve', 'water resources', 'aerial photography', \"bird's eye view\", 'archipelago', 'watercourse', 'biome', 'tributary']\n",
      "0.04892633348616843 0.5158934608705291 1 ['wildlife', 'ecosystem', 'mammal', 'terrestrial animal', 'lion', 'wilderness', 'fauna', 'nature reserve', 'grassland', 'grass']\n",
      "0.00523460186458811 0.10235344923145137 0 ['snapshot', 'girl', 'vacation', 'road', 'vehicle', 'house', 'street', 'recreation', 'window', 'fun']\n",
      "0.007192801467216873 0.21263313349837423 1 ['green', 'vegetation', 'water', 'ecosystem', 'sky', 'grass', 'sea', 'shore', 'grass family', 'tropics']\n",
      "0.0033432676142442306 0.09015262433490984 0 ['water', 'sand', 'soil', 'mud', 'material', 'beach', 'recreation']\n",
      "0.005798181262417851 0.1423616242979604 0 ['sky', 'black and white', 'monochrome photography', 'cloud', 'rock', 'photography', 'shore', 'monochrome', 'atmosphere', 'sea']\n",
      "0.0031617759437566864 0.09613843574490097 0 ['rock', 'wilderness', 'ridge', 'badlands', 'geology', 'mountain', 'makhtesh', 'sky', 'geological phenomenon', 'wadi']\n",
      "0.018416628457893932 0.24801800823972805 1 ['red', 'close up', 'eye', 'macro photography', 'iris', 'circle', 'computer wallpaper']\n",
      "0.01706021702582913 0.12678338844960094 0 ['interior design']\n",
      "0.08536795048143053 0.2655834318652084 1 ['male', 'muscle', 'black hair', 'barechestedness', 'romance']\n",
      "0.050626623872841205 0.3535560384643807 1 ['climbing', 'rock climbing', 'sport climbing', 'adventure', 'rock', 'free climbing', 'recreation', 'rock climbing equipment', 'formation', 'boulder']\n",
      "0.011548601558917928 0.24357079515223173 1 ['horse', 'rein', 'horse like mammal', 'horse tack', 'snout', 'horse supplies', 'bridle', 'pack animal', 'horse harness', 'mane']\n",
      "0.015331270059605686 0.20273645340673957 1 ['flamingo', 'water bird', 'bird', 'beak', 'organism']\n",
      "0.010173085740486016 0.28940370510641444 1 ['darkness', 'night', 'wildlife', 'organism', 'sky', 'snout', 'midnight']\n",
      "0.011653675683937033 0.3661690806976057 1 ['iceberg', 'sky', 'cliff', 'sea ice', 'arctic ocean', 'sea', 'arctic', 'ocean', 'ice cap', 'fjord']\n",
      "0.049700061134036376 0.6016040681347916 1 ['tiger', 'mammal', 'cat like mammal', 'wildlife', 'big cats', 'carnivoran', 'cat', 'terrestrial animal', 'fur', 'toyger']\n",
      "0.013688292832034234 0.3249698631022761 1 ['wildlife', 'fauna', 'mammal', 'ecosystem', 'jackal', 'wilderness', 'grass', 'organism', 'ecoregion', 'savanna']\n",
      "0.01280949105914718 0.14627768899645285 0 ['harbor seal', 'seals', 'marine mammal', 'fauna', 'mammal', 'terrestrial animal', 'organism', 'snout', 'wildlife']\n",
      "0.005654898364664527 0.15338641738102277 0 ['child', 'standing', 'lighting', 'fun', 'girl', 'toddler', 'recreation', 'darkness', 'play']\n",
      "0.00770861989912884 0.10554669025273426 0 ['tree', 'plant', 'waste', 'grass', 'recreation']\n",
      "0.015598731468745224 0.21823790367277565 1 ['great ape', 'western gorilla', 'fauna', 'mammal', 'primate', 'common chimpanzee', 'terrestrial animal', 'tree', 'wildlife', 'jungle']\n",
      "0.032372382699067705 0.3979744771652379 1 ['wilderness', 'mountain', 'sky', 'national park', 'rock', 'terrain', 'escarpment', 'ridge', 'canyon', 'fell']\n",
      "0.005129527739569005 0.0971776391146911 0 ['face', 'man', 'person', 'chin', 'forehead', 'head', 'eye', 'close up', 'wrinkle', 'human']\n",
      "0.010698456365581538 0.17443663630653267 0 ['wall', 'arch', 'concrete', 'plaster', 'ceiling', 'crypt', 'window', 'daylighting']\n",
      "0.0034483417392633347 0.09111446478717115 0 ['tradition', 'event', 'santa claus', 'costume', 'christmas', 'senior citizen']\n",
      "0.06911011768302003 0.21169092244309784 1 ['plant', 'leisure', 'grass', 'lawn', 'fun', 'vacation', 'camping', 'summer', 'outdoor recreation', 'recreation']\n",
      "0.00336237200061134 0.1037009496009459 0 ['sailing', 'sail', 'sailboat', 'water', 'water transportation', 'sailing', 'sea', 'sailing ship', 'boating', 'boat']\n",
      "0.003085358398288247 0.08158843389742831 0 ['green', 'temple', 'fun', 'girl', 'religion', 'art']\n",
      "0.011567705945285037 0.2330026742166716 1 ['historic site', 'ruins', 'archaeological site', 'ancient history', 'cave', 'tourist attraction', 'history', 'formation', 'rock', 'arch']\n",
      "0.018636328901115697 0.3406733806902158 1 ['wildlife', 'lion', 'masai lion', 'wilderness', 'terrestrial animal', 'mane', 'fauna', 'big cats', 'snout', 'whiskers']\n",
      "0.009380253706250955 0.15689719276529707 0 ['sky', 'ecosystem', 'cloud', 'rock', 'photography', 'sand', 'landscape', 'mountain', 'ecoregion', 'hill']\n",
      "0.005578480819196087 0.1891921694871416 0 ['mountainous landforms', 'mountain', 'ridge', 'wilderness', 'mount scenery', 'highland', 'mountain range', 'massif', 'national park', 'sky']\n",
      "0.005912807580620511 0.10189389040792196 0 ['night', 'sky', 'light', 'lighting', 'evening', 'recreation', 'tree', 'city', 'tourism']\n",
      "0.007250114626318202 0.22393273813922554 1 ['coast', 'sea', 'shore', 'promontory', 'coastal and oceanic landforms', 'aerial photography', 'water resources', \"bird's eye view\", 'ocean']\n",
      "0.013182026593305822 0.19127057622672183 1 ['rural area', 'shack', 'wood', 'outdoor structure', 'outhouse', 'hut', 'house', 'tree', 'land lot', 'forest']\n",
      "0.006380865046614703 0.22987813608483595 1 ['sky', 'water', 'sunset', 'sea', 'sunrise', 'calm', 'horizon', 'evening', 'morning', 'sun']\n",
      "0.005855494421519181 0.1016750803650606 0 ['structure', 'architecture', 'residential area', 'building', 'sky', 'facade', 'evening', 'house', 'city', 'night']\n",
      "0.010450099342809108 0.27749270248300323 1 ['nature', 'tree', 'woody plant', 'sky', 'vegetation', 'plant', 'landscape', 'morning', 'mountain', 'sunlight']\n",
      "0.007278771205868868 0.10394516239284658 0 ['nature', 'plant', 'lady', 'leaf', 'girl', 'flora', 'photography', 'darkness', 'tree', 'portrait']\n",
      "0.013841127922971114 0.2175410600798108 1 ['hair', 'horse', 'mane', 'eye', 'nose', 'horse like mammal', 'close up', 'snout', 'ear', 'bridle']\n",
      "0.006591013296652911 0.16087560966597694 0 ['erg', 'desert', 'sahara', 'sand', 'aeolian landform', 'landscape', 'dune', 'sky', 'singing sand', 'soil']\n",
      "0.008721152376585665 0.17244887119420632 0 ['nature', 'tree', 'girl', 'plant', 'jungle', 'fun', 'forest', 'vacation', 'grass', 'rainforest']\n",
      "0.007641754546843955 0.11812220569760568 0 ['outerwear', 'fishing', 'fisherman', 'recreational fishing', 'recreation', 'fishing rod', 'vacation', 'angling', 'jacket', 'trousers']\n",
      "0.01676409903713893 0.13427546741058233 0 ['black and white', 'monochrome photography', 'car', 'vehicle', 'troop', 'monochrome', 'monument', 'military', 'statue']\n",
      "0.00861607825156656 0.2419340498448123 1 ['erg', 'desert', 'singing sand', 'aeolian landform', 'sand', 'dune', 'landscape', 'sky', 'sahara', 'morning']\n",
      "0.004422665443985939 0.1670201882574638 0 ['iceberg', 'sea ice', 'arctic ocean', 'sea', 'sky', 'water', 'ice', 'ocean', 'calm', 'arctic']\n",
      "0.0033241632278771206 0.10988998300325155 0 ['room', 'light', 'darkness', 'night']\n",
      "0.004671022466758368 0.18965115097546556 0 ['aerial photography', 'water', 'water resources', 'photography', 'atmosphere', 'geological phenomenon', 'mountain', 'sky', 'glacial landform', 'shield volcano']\n",
      "0.010669799786030873 0.19144781813479161 1 ['swan', 'water', 'waterway', 'water bird', 'bird', 'ducks geese and swans', 'waterfowl', 'reflection', 'lake', 'river']\n",
      "0.09774759284731774 0.3430000415681348 1 ['vehicle', 'tradition', 'tree']\n",
      "0.00513907993275256 0.08979063516109961 0 ['darkness']\n",
      "0.04286069081461103 0.32627521800177356 1 ['darkness', 'organism', 'macro photography', 'still life photography', 'computer wallpaper']\n",
      "0.004690126853125478 0.16691049456843038 0 ['sky', 'historic site', 'archaeological site', 'sand', 'landscape', 'pueblo', 'aeolian landform', 'ruins', 'desert']\n",
      "0.008023842274186153 0.0902305645876441 0 ['car', 'land vehicle', 'vehicle', 'sky', 'plant', 'tree', 'automotive design', 'road', 'family car', 'city car']\n",
      "0.004088338682561516 0.13144306089269878 0 ['hill station', 'aerial photography', \"bird's eye view\", 'plateau', 'terrace', 'highland', 'field', 'mount scenery', 'mountain', 'escarpment']\n",
      "0.012140837536298334 0.29227594775347326 1 ['bamboo', 'tree', 'biome', 'line', 'forest', 'plant stem']\n",
      "0.00432714351215039 0.08267555608926988 0 ['neighbourhood', 'building', 'car', 'urban area', 'infrastructure', 'town', 'residential area', 'architecture', 'city', 'street']\n",
      "0.008339064649243466 0.17218560634052615 0 ['public space', 'play', 'child', 'fun', 'leisure', 'wood', 'girl', 'recreation', 'toy', 'flooring']\n",
      "0.011644123490753477 0.3052480924844812 1 ['reflection', 'sky', 'horizon', 'sunset', 'sunrise', 'dawn', 'shore', 'water', 'afterglow', 'red sky at morning']\n",
      "0.004804753171328137 0.13459762045521725 0 ['land vehicle', 'sky', 'cloud', 'mountainous landforms', 'road', 'mountain', 'hill', 'wilderness', 'motorcycle', 'vehicle']\n",
      "0.0068775790921595595 0.16640936761010938 0 ['sky', 'geological phenomenon', 'evening', 'recreation', 'landscape', 'campfire', 'tourism']\n",
      "0.006161164603392939 0.10390763560449305 0 ['ruins']\n",
      "0.012417851138621427 0.2323017892772687 1 ['bird', 'parrot', 'beak', 'wing', 'macaw', 'lovebird', 'feather', 'parakeet', 'organism', 'lorikeet']\n",
      "0.005578480819196087 0.12146439920189181 0 ['girl', 'child', 'happiness', 'font']\n",
      "0.027720464618676447 0.3216265149275791 1 ['fish', 'shark', 'tiger shark', 'requiem shark', 'ecosystem', 'cartilaginous fish', 'great white shark', 'carcharhiniformes', 'marine biology', 'lamniformes']\n",
      "0.0041647562280299555 0.10475574102128289 0 ['tribe', 'temple', 'tradition', 'tree']\n",
      "0.003610729023383769 0.10198106802394324 0 ['path', 'tree', 'ecosystem', 'wilderness', 'trail', 'woodland', 'forest', 'grass', 'plant', 'grass family']\n",
      "0.9092446125630445 0.769545683380136 1 ['rhinoceros', 'terrestrial animal', 'fauna', 'horn', 'wildlife', 'snout', 'grass']\n",
      "0.003744459727953538 0.09878205365060597 0 ['tree', 'path', 'geological phenomenon', 'hill station', 'mountain', 'trail', 'hill', 'road', 'rural area', 'plant']\n",
      "0.032104921289928166 0.3888525809193024 1 ['terrestrial animal', 'harbor seal', 'seals', 'fauna', 'snout', 'organism', 'wildlife', 'marine mammal', 'marine biology', 'walrus']\n",
      "0.009284731774415406 0.12241180627401714 0 ['barechestedness', 'water', 'vacation', 'standing', 'shoulder', 'male', 'joint', 'fun', 'sea', 'beach']\n",
      "0.008253094910591471 0.09026347269435413 0 ['sky', 'cloud', 'tourism', 'fun', 'flag', 'vacation', 'kite sports', 'windsports']\n",
      "0.06564267155738958 0.31113287023352054 1 ['tree', 'scaled reptile', 'reptile', 'jungle', 'forest']\n",
      "0.007030414183096439 0.2016978273721549 1 ['rock', 'geology', 'geological phenomenon', 'water', 'tree', 'sky', 'igneous rock', 'formation', 'bedrock', 'badlands']\n",
      "0.011548601558917928 0.2370676913981673 1 ['sky', 'rock', 'atmosphere', 'geological phenomenon', 'star', 'earth', 'formation', 'night', 'geology', 'landscape']\n",
      "0.011682332263487697 0.11060818799881762 0 ['senior citizen', 'elder', 'portrait']\n",
      "0.022438101788170565 0.4510142624889152 1 ['polar bear', 'polar bear', 'arctic ocean', 'bear', 'arctic', 'polar ice cap', 'freezing', 'ice cap', 'wildlife', 'ice']\n",
      "0.009647715115390493 0.13911700044339345 0 ['people', 'girl', 'child', 'human', 'fun', 'vacation', 'human behavior']\n",
      "0.007326532171786642 0.1963586313922554 1 ['wildlife', 'fauna', 'mammal', 'wilderness', 'nature reserve', 'forest', 'rainforest', 'jungle', 'leaf', 'plant']\n",
      "0.00767041112639462 0.12893800343629913 0 ['eye', 'human', 'temple', 'portrait', 'girl', 'headgear', 'portrait photography', 'elder']\n",
      "0.030748509857863364 0.42581473544191545 1 ['sky', 'nature', 'atmosphere', 'outer space', 'star', 'night', 'galaxy', 'astronomical object', 'universe', 'horizon']\n",
      "0.014089484945743544 0.22883835537984037 1 ['vertebrate', 'reptile', 'scaled reptile', 'close up', 'macro photography', 'finger', 'serpent', 'snake', 'nail', 'hand']\n",
      "0.03231506953996638 0.53444612769731 1 ['wildlife', 'mammal', 'fauna', 'tiger', 'terrestrial animal', 'whiskers', 'big cats', 'organism', 'snout', 'grass']\n",
      "0.006619669876203577 0.1006006595477387 0 ['musician', 'music']\n",
      "0.0042411737734983955 0.10578512969258055 0 ['restaurant', 'darkness']\n",
      "0.012284120434051658 0.164738559525569 0 ['fox', 'red fox', 'mammal', 'wildlife', 'fauna', 'kit fox', 'dog like mammal', 'fur', 'snout', 'carnivoran']\n",
      "0.00525370625095522 0.1051783503916642 0 ['light fixture', 'lighting', 'lamp', 'lighting accessory', 'glass', 'lampshade']\n",
      "0.018808268378419684 0.37032243016553357 1 ['wildlife', 'lion', 'masai lion', 'terrestrial animal', 'big cats', 'safari', 'snout', 'whiskers', 'mane', 'savanna']\n",
      "0.010096668195017576 0.2745511796112918 1 ['water', 'nature', 'vegetation', 'body of water', 'reflection', 'nature reserve', 'stream', 'ecosystem', 'tree', 'forest']\n",
      "0.012102628763564114 0.2200761389668933 1 ['erg', 'desert', 'orange', 'aeolian landform', 'sahara', 'singing sand', 'landscape', 'dune', 'sand', 'sky']\n",
      "0.012561134036374752 0.2781364312370677 1 ['wildlife', 'lion', 'facial expression', 'mammal', 'fauna', 'roar', 'masai lion', 'mane', 'snout', 'terrestrial animal']\n",
      "0.0050244536145499005 0.14004477811853386 0 ['water', 'body of water', 'fun', 'leisure', 'vacation', 'river', 'water feature', 'recreation', 'water resources', 'tree']\n",
      "0.022982576799633194 0.3081798006577003 1 ['grizzly bear', 'mammal', 'brown bear', 'bear', 'american black bear', 'fauna', 'nature reserve', 'terrestrial animal', 'wildlife', 'carnivoran']\n",
      "0.010688904172397982 0.2639489958986107 1 ['elephant', 'elephants and mammoths', 'terrestrial animal', 'wildlife', 'indian elephant', 'mammal', 'african elephant', 'tusk', 'fauna', 'organism']\n",
      "0.04577410973559529 0.6258065372819982 1 ['elephants and mammoths', 'elephant', 'mammal', 'indian elephant', 'wildlife', 'african elephant', 'reflection', 'terrestrial animal', 'sky']\n",
      "0.014815451627693718 0.34497741464676324 1 ['sky', 'cloud', 'wilderness', 'highland', 'ecosystem', 'hill', 'grassland', 'meteorological phenomenon', 'mountain', 'rural area']\n",
      "0.006982653217178664 0.2145458450339935 1 ['sky', 'nature', 'atmosphere', 'night', 'star', 'astronomical object', 'tree', 'darkness', 'earth', 'midnight']\n",
      "0.0055116154669112025 0.11774636047886491 0 ['advertising', 'recreation']\n",
      "0.0054925110805440925 0.11880057456399645 0 ['food', 'dish', 'cuisine', 'meal', 'cook', 'chef', 'brunch', 'asian food', 'supper', 'taste']\n",
      "0.012857252025064955 0.2751931763597399 1 ['nature', 'sky', 'atmosphere', 'night', 'geological phenomenon', 'earth', 'rock', 'darkness', 'star', 'outer space']\n",
      "0.029821947119058535 0.31753782700266037 1 ['black', 'dog like mammal', 'dog', 'standard poodle', 'black and white', 'dog breed', 'water dog', 'snout', 'poodle', 'carnivoran']\n",
      "0.005053110194100566 0.09857017163020987 0 ['hair', 'eyebrow', 'nose', 'forehead', 'chin', 'head', 'hairstyle', 'cheek', 'temple', 'lip']\n",
      "0.004709231239492588 0.12155850484037836 0 ['grassland', 'grass', 'rural area', 'plant', 'steppe', 'ecoregion', 'tree', 'recreation', 'sky', 'prairie']\n",
      "0.1710893321106526 0.6384698076780964 1 ['hospital', 'patient', 'textile', 'arm', 'service', 'medical', 'trunk', 'girl']\n",
      "0.004088338682561516 0.16502491778746675 0 ['waterway', 'sky', 'reflection', 'dawn', 'river', 'horizon', 'sunrise', 'morning', 'atmosphere', 'dusk']\n",
      "0.00940891028580162 0.2680642412429796 1 ['ecosystem', 'highland', 'grassland', 'sky', 'tundra', 'plain', 'steppe', 'wilderness', 'ecoregion', 'mountain']\n",
      "0.004661470273574813 0.07755632482264263 0 ['darkness']\n",
      "0.006247134342044934 0.1330405474061484 0 ['flora', 'plant', 'flower', 'close up', 'art', 'tree', 'visual arts']\n",
      "0.008606526058383005 0.1976940077224357 1 ['wildlife', 'ecosystem', 'fauna', 'grassland', 'wilderness', 'steppe', 'savanna', 'ecoregion', 'prairie', 'herd']\n",
      "0.006676983035304906 0.1742368783254508 0 ['tree', 'sky', 'woody plant', 'plant', 'cloud', 'branch', 'landscape', 'girl', 'stock photography']\n",
      "0.005654898364664527 0.08489194594295005 0 ['room', 'product', 'toy', 'furniture', 'chair', 'play', 'toddler', 'couch', 'flooring', 'baby products']\n",
      "0.008472795353813236 0.24560416974578778 1 ['waterfall', 'nature', 'nature reserve', 'body of water', 'water resources', 'vegetation', 'watercourse', 'water', 'water feature', 'chute']\n",
      "0.0060942992511080546 0.21846941509015666 1 ['sky', 'mountain', 'mountainous landforms', 'stratovolcano', 'geological phenomenon', 'mountain range', 'atmosphere', 'ridge', 'darkness', 'summit']\n",
      "0.008826226501604768 0.2289157182973692 1 ['aircraft', 'aviation', 'airplane', 'aerospace engineering', 'vehicle', 'sand', 'aircraft engine', 'sky']\n",
      "0.005186840898670335 0.19100269269139816 0 ['sea', 'body of water', 'coastal and oceanic landforms', 'coast', 'beach', 'shore', 'promontory', 'sky', 'bay', 'ocean']\n",
      "0.012159941922665445 0.22058765795891222 1 ['snow', 'freezing', 'winter', 'snout', 'wildlife', 'fur']\n",
      "0.006399969432981813 0.19796304592817027 1 ['nature', 'green', 'woodland', 'forest', 'tree', 'wilderness', 'nature reserve', 'woody plant', 'ecosystem', 'grass']\n",
      "0.03500878801772887 0.28584212422406147 1 ['tourist attraction', 'reflection', 'tourism', 'evening', 'historic site', 'arch', 'night', 'ancient rome', 'water', 'city']\n",
      "0.003639385602934434 0.086906845809932 0 ['room', 'darkness', 'sitting', 'girl', 'house', 'window', 'fun']\n",
      "0.009982041876814916 0.19702025753768845 1 ['yellow', 'girl', 'eye', 'parrot', 'human', 'macaw', 'smile', 'temple', 'tribe', 'beak']\n",
      "0.01109009628610729 0.19565543711203073 1 ['blue', 'water', 'painting', 'art', 'reflection', 'modern art', 'mural', 'sky', 'acrylic paint', 'artwork']\n",
      "0.00338147638697845 0.08770991908069761 0 ['wall', 'girl', 'temple', 'leisure', 'art', 'fun']\n",
      "0.005845942228335626 0.18131212126810523 0 ['horizon', 'sky', 'field', 'wood', 'ecoregion', 'morning', 'sand', 'calm', 'sunlight', 'grass family']\n",
      "0.008033394467369708 0.11599241612474136 0 ['house', 'home', 'window', 'facade']\n",
      "0.003734907534769983 0.11121958598137748 0 ['sky', 'cloud', 'horizon', 'morning', 'sand', 'sunlight', 'meteorological phenomenon', 'landscape', 'wood', 'sunrise']\n",
      "0.018330658719241937 0.16658256817174105 0 ['statue', 'sculpture', 'art', 'mythology', 'temple', 'artwork', 'carving', 'monument']\n",
      "0.00861607825156656 0.22771486107005617 1 ['reflection', 'afterglow', 'sunset', 'sky', 'water', 'sun', 'sunrise', 'calm', 'horizon', 'evening']\n",
      "0.009982041876814916 0.21153850594886195 1 ['horn', 'fauna', 'head', 'darkness', 'wildlife', 'organism', 'close up', 'snout', 'extinction', 'jaw']\n",
      "0.004413113250802384 0.08968267347768254 0 ['red', 'pink', 'tradition', 'temple', 'headgear', 'smile', 'human', 'girl', 'fun', 'magenta']\n",
      "0.07107786947883234 0.5037059146837127 1 ['fauna', 'feather', 'bird', 'water', 'shorebird', 'beak', 'water bird', 'wildlife']\n",
      "0.005616689591930307 0.16098645802542122 0 ['landmark', 'statue', 'sky', 'building', 'monument', 'château', 'historic site', 'palace', 'classical architecture', 'medieval architecture']\n",
      "0.02922971114167813 0.6067186807197753 1 ['elephants and mammoths', 'elephant', 'wildlife', 'indian elephant', 'grassland', 'grass', 'terrestrial animal', 'african elephant', 'tusk', 'nature reserve']\n",
      "0.018130062662387283 0.3701526936151345 1 ['sky', 'grassland', 'highland', 'ecosystem', 'wilderness', 'tundra', 'mountainous landforms', 'mountain', 'fell', 'cloud']\n",
      "0.012704416934128077 0.20960154633461425 1 ['girl', 'snapshot', 'eye', 'human', 'child', 'fun']\n",
      "0.006591013296652911 0.23768024405113805 1 ['water', 'sea', 'reflection', 'ocean', 'sky', 'calm', 'horizon', 'loch', 'wave', 'lake']\n",
      "0.014051276173009324 0.30026049364469404 1 ['wildlife', 'safari', 'grass', 'hunting', 'horn', 'soldier', 'jungle', 'adventure']\n",
      "0.019696622344490294 0.3046655612621933 1 ['reptile', 'fauna', 'scaled reptile', 'terrestrial animal', 'organism', 'lizard', 'gecko']\n",
      "0.009074583524377197 0.2833145506946497 1 ['reflection', 'sky', 'nature', 'loch', 'reservoir', 'water', 'highland', 'cloud', 'horizon', 'lake']\n",
      "0.018349763105609047 0.3588756050472953 1 ['wildlife', 'lion', 'mammal', 'terrestrial animal', 'masai lion', 'fauna', 'big cats', 'cat like mammal', 'organism', 'whiskers']\n",
      "0.023307351367874065 0.23676459041531187 1 ['sky', 'city', 'landmark', 'cityscape', 'town', 'reflection', 'tourist attraction', 'evening', 'dusk', 'skyline']\n",
      "0.003219089102858016 0.07789117924179723 0 ['wall', 'road', 'street art', 'art', 'street', 'recreation', 'mural', 'pedestrian']\n",
      "0.06316865352284885 0.7725397437555425 1 ['nature', 'moon', 'sky', 'sea', 'daytime', 'atmosphere', 'astronomical object', 'horizon', 'calm', 'night']\n",
      "0.009065031331193641 0.13671528598876737 0 ['goats', 'goat', 'cow goat family', 'livestock', 'goat antelope', 'snout']\n",
      "0.008090707626471037 0.14109379618681644 0 ['pink', 'festival', 'fun', 'crowd', 'carnival', 'fête']\n",
      "0.008214886137857253 0.19384895525421222 1 ['bird', 'water', 'fauna', 'beak', 'wildlife', 'heron', 'little blue heron', 'pelecaniformes', 'shorebird', 'wing']\n",
      "0.004690126853125478 0.10427886214159031 0 ['crowd', 'event', 'ceremony', 'fun', 'plant', 'tree', 'girl', 'recreation', 'party', 'leisure']\n",
      "0.004451322023536604 0.06534395322199231 0 ['light', 'darkness', 'night', 'architecture', 'structure', 'midnight']\n",
      "0.005922359773804065 0.1983504378510198 1 ['water', 'marine mammal', 'underwater', 'marine biology', 'fauna', 'wildlife', 'sea', 'organism', 'whales dolphins and porpoises', 'ocean']\n",
      "0.003878190432523307 0.09902280243127402 0 ['reflection', 'water', 'night', 'sky', 'light', 'atmosphere', 'lighting', 'darkness', 'daytime', 'horizon']\n",
      "0.013096056854653829 0.10566677597546556 0 ['performing arts', 'event', 'performance', 'performance art', 'temple', 'opera']\n",
      "0.007871007183249274 0.23480569206325747 1 ['highland', 'wilderness', 'sky', 'mountain', 'loch', 'aerial photography', 'reflection', 'fell', 'tundra', 'photography']\n",
      "0.006868026898976005 0.11419921297664795 0 ['girl', 'fun']\n",
      "0.006323551887513373 0.2431389484185634 1 ['coast', 'cliff', 'sky', 'sea', 'headland', 'rock', 'promontory', 'shore', 'terrain', 'cloud']\n",
      "0.004059682103010851 0.11255092096511972 0 ['tree', 'morning', 'sunlight', 'light', 'sky', 'path', 'photography', 'rural area', 'evening', 'grass']\n",
      "0.011367109888430383 0.24794815067986994 1 ['nature reserve', 'highland', 'escarpment', 'badlands', 'national park', 'hill', 'mount scenery', 'plateau', 'ridge', 'shrubland']\n",
      "0.018139614855570838 0.29139608890038426 1 ['highland', 'mountain pass', 'mountainous landforms', 'mountain', 'ridge', 'fell', 'wilderness', 'road', 'hill', 'mount scenery']\n",
      "0.007871007183249274 0.2186668637304168 1 ['wildlife', 'grassland', 'fauna', 'antelope', 'grass', 'horn', 'prairie', 'pasture', 'national park', 'ecoregion']\n",
      "0.02843687910744307 0.319583902970736 1 ['clothing', 'girl', 'tartan', 'costume', 'fun', 'recreation', 'winter', 'plaid', 'uniform', 'tree']\n"
     ]
    },
    {
     "name": "stdout",
     "output_type": "stream",
     "text": [
      "0.003897294818890417 0.11211561022021874 0 ['sand', 'landscape', 'crowd', 'recreation', 'race']\n",
      "0.005205945285037444 0.16997268049807862 0 ['sky', 'badlands', 'cloud', 'highland', 'soil', 'mountain', 'hill', 'geological phenomenon', 'geology', 'terrain']\n",
      "0.00425072596668195 0.16081037078776234 0 ['wilderness', 'geological phenomenon', 'sky', 'mountain', 'wildfire', 'atmosphere', 'highland', 'ridge', 'cloud', 'terrain']\n",
      "0.004938483875897906 0.19060490873485073 0 ['freezing', 'arctic', 'ice', 'arctic ocean', 'calm', 'atmosphere', 'sea', 'water', 'morning', 'winter']\n",
      "0.006524147944368027 0.14669221567395802 0 ['red', 'arch', 'light', 'architecture', 'structure', 'lighting', 'building', 'chapel', 'symmetry', 'window']\n",
      "0.01201665902491212 0.30126852091339046 1 ['mountainous landforms', 'nature', 'sky', 'mountain', 'landmark', 'mountain range', 'morning', 'mountain pass', 'road', 'tourist attraction']\n",
      "0.007517576035457741 0.09650388892994384 0 ['senior citizen', 'service', 'surgeon']\n",
      "0.0074984716490906315 0.09435389262488915 0 ['window', 'glass', 'square', 'building', 'prison', 'door']\n",
      "0.020909750878801772 0.330371411284363 1 ['sky', 'nature', 'vegetation', 'sunrise', 'dawn', 'tree', 'morning', 'cloud', 'sunset', 'landscape']\n",
      "0.004623261500840593 0.14948709540348804 0 ['rock', 'badlands', 'wadi', 'geology', 'canyon', 'bedrock', 'outcrop', 'formation', 'escarpment', 'soil']\n",
      "0.018645881094299252 0.29971953055719774 1 ['land vehicle', 'town', 'urban area', 'vehicle', 'street', 'neighbourhood', 'bicycle', 'city', 'recreation', 'road']\n",
      "0.008062051046920373 0.18536155039905408 0 ['sky', 'wall', 'structure', 'water', 'mural', 'tourism', 'art']\n",
      "0.007660858933211065 0.13977343057197752 0 ['green', 'red', 'pink', 'glasses', 'light', 'darkness', 'close up', 'neon', 'vision care', 'macro photography']\n",
      "0.006944444444444444 0.14417792085427136 0 ['rock climbing', 'climbing', 'rock', 'adventure', 'outdoor recreation', 'sport climbing', 'rock climbing equipment', 'bouldering', 'hand', 'recreation']\n",
      "0.010440547149625555 0.32017047553946204 1 ['sky', 'ecosystem', 'bird migration', 'animal migration', 'flock', 'horizon', 'bird', 'morning', 'ecoregion', 'atmosphere']\n",
      "0.003104462784655357 0.07946961369346733 0 ['social group', 'event', 'fun', 'girl', 'tradition', 'night', 'crowd', 'dress', 'ceremony', 'temple']\n",
      "0.016487085434815835 0.24465098932160803 1 ['fauna', 'beak', 'bird', 'duck', 'water bird', 'ducks geese and swans', 'waterfowl']\n",
      "0.01557007488919456 0.249626464122081 1 ['town', 'city', 'sky', 'night', 'evening', 'historic site', 'cityscape', 'village', 'tourism', 'dusk']\n",
      "0.016783203423506036 0.1268434313109666 0 ['plant', 'tree', 'outdoor recreation', 'adventure', 'recreation', 'jungle', 'rock', 'fun', 'vacation', 'tourism']\n",
      "0.01993542717407917 0.3059218426692285 1 ['wildlife', 'lion', 'safari', 'masai lion', 'terrestrial animal', 'grass', 'big cats', 'national park']\n",
      "0.07817514901421366 0.7149378556384866 1 ['sky', 'water', 'water bird', 'extreme sport', 'windsports', 'flamingo', 'sea', 'wave', 'vacation', 'kite sports']\n",
      "0.019190356105761884 0.12303244161986403 0 ['outerwear', 'peach']\n",
      "0.0042029650007641755 0.12652589694797517 0 ['horse like mammal', 'pack animal', 'middle ages', 'livestock']\n",
      "0.0046519180803912576 0.10418186982707656 0 ['land vehicle', 'motor vehicle', 'vehicle', 'car', 'mode of transport', 'tree', 'transport', 'snapshot', 'plant', 'recreation']\n",
      "0.008396377808344796 0.19771363711942064 1 ['sky', 'atmosphere', 'geological phenomenon', 'light', 'night', 'darkness', 'formation', 'star', 'landscape', 'rock']\n",
      "0.006151612410209384 0.08313049623115577 0 ['structure', 'sport venue', 'crowd', 'recreation', 'city']\n",
      "0.009475775638086504 0.24168290903044634 1 ['reflection', 'water', 'nature', 'sky', 'body of water', 'river', 'lake', 'calm', 'loch', 'horizon']\n",
      "0.004413113250802384 0.10883865559414721 0 ['eye', 'darkness', 'human body', 'human', 'organ', 'girl', 'computer wallpaper']\n",
      "0.02671748433440318 0.3436599357079515 1 ['orange', 'scaled reptile', 'close up', 'snake', 'macro photography', 'reptile', 'serpent', 'nail']\n",
      "0.024587345254470427 0.4126151206399645 1 ['aurora', 'nature', 'sky', 'atmosphere', 'night', 'tree', 'winter', 'snow', 'darkness', 'landscape']\n",
      "0.010564725661011768 0.3297813747044044 1 ['sky', 'sunrise', 'morning', 'atmosphere', 'dawn', 'sun', 'tree', 'sunlight', 'mist', 'evening']\n",
      "0.016066788934739416 0.27514987621933196 1 ['sky', 'atmosphere', 'aurora', 'outer space', 'earth', 'space', 'computer wallpaper', 'arctic', 'world']\n",
      "0.007288323399052422 0.07292378713420042 0 ['facial expression', 'smile', 'beauty', 'hairstyle', 'girl', 'grass', 'blond', 'long hair', 'brown hair', 'plant']\n",
      "0.007851902796882164 0.08295671833431865 0 ['aviation', 'aircraft', 'air travel', 'sky']\n",
      "0.004384456671251719 0.07440234259532959 0 ['crowd', 'public space', 'tree', 'plant', 'city', 'festival', 'recreation', 'street', 'public event', 'pedestrian']\n",
      "0.008530108512914565 0.11022310541678983 0 ['furniture', 'window', 'bed', 'product', 'house']\n",
      "0.004795200978144582 0.06965087385456695 0 ['event', 'tradition', 'ceremony', 'tourism', 'festival']\n",
      "0.057809873146874524 0.22217648444428023 1 ['face', 'person', 'head', 'eye', 'girl', 'water', 'human', 'temple', 'mouth', 'organ']\n",
      "0.00770861989912884 0.10078252013745197 0 ['human', 'temple', 'girl', 'fun', 'human behavior']\n",
      "0.016993351673544245 0.21154832064735443 1 ['mink', 'fauna', 'polecat', 'mammal', 'ferret', 'mustelidae', 'mustelinae', 'whiskers', 'weasel', 'organism']\n",
      "0.006285343114779154 0.11062839473100798 0 ['distilled beverage']\n",
      "0.013210683172856489 0.16316647576115872 0 ['goats', 'goat', 'fauna', 'herd', 'livestock', 'wildlife', 'rural area', 'cow goat family', 'pasture', 'grass']\n",
      "0.004756992205410362 0.19098768197605676 0 ['sky', 'cloud', 'tree', 'mountainous landforms', 'mountain', 'daytime', 'leaf', 'mountain range', 'hill station', 'meteorological phenomenon']\n",
      "0.0050435580009170105 0.1934378925879397 1 ['sea', 'water', 'sky', 'ocean', 'calm', 'shore', 'boats and boating equipment and supplies', 'fisherman', 'evening', 'cloud']\n",
      "0.02652644047073208 0.540523735404966 1 ['wildlife', 'jaguar', 'fauna', 'mammal', 'ecosystem', 'nature reserve', 'leopard', 'terrestrial animal', 'bank', 'beak']\n",
      "0.008979061592541648 0.2710929417307124 1 ['nature', 'wilderness', 'nature reserve', 'mount scenery', 'ecosystem', 'mountainous landforms', 'mountain', 'highland', 'sky', 'valley']\n",
      "0.003094910591471802 0.10237827464528525 0 ['temple', 'girl']\n",
      "0.01271396912731163 0.2958467659991132 1 ['sky', 'atmosphere', 'light', 'night', 'horizon', 'lighting', 'astronomical object', 'astronomy', 'midnight', 'computer wallpaper']\n",
      "0.007488919455907076 0.2517066028672776 1 ['nature', 'vegetation', 'sky', 'highland', 'mist', 'hill station', 'cloud', 'forest', 'rainforest', 'wilderness']\n",
      "0.047264251872229865 0.3376348655039905 1 ['close up', 'finger']\n",
      "0.004174308421213511 0.10949277638190955 0 ['sky', 'mountainous landforms', 'mountain', 'cloud', 'arctic', 'extreme sport', 'terrain', 'glacial landform', 'adventure', 'ice']\n",
      "0.0069539966376279995 0.19084738952113509 1 ['room', 'window', 'technology', 'television', 'display device', 'interior design', 'daylighting', 'media', 'screen']\n",
      "0.010440547149625555 0.19557172350724208 1 ['flower', 'plant', 'flora', 'leaf', 'fawn lily', 'flowering plant', 'spring', 'plant stem', 'wildflower', 'macro photography']\n",
      "0.013096056854653829 0.2981393640999113 1 ['camel', 'arabian camel', 'camel like mammal', 'erg', 'desert', 'sand', 'sahara', 'landscape', 'mustang horse', 'ecoregion']\n",
      "0.0145861989912884 0.43053906942802245 1 ['water', 'sky', 'reflection', 'morning', 'atmosphere', 'water resources', 'calm', 'sunrise', 'wetland', 'mist']\n",
      "0.013907993275255999 0.28530520248300323 1 ['sea turtle', 'turtle', 'loggerhead', 'marine biology', 'emydidae', 'fauna', 'organism', 'tortoise', 'reptile', 'underwater']\n",
      "0.005416093535075653 0.18337436262193318 0 ['water', 'underwater', 'marine biology', 'atmosphere', 'darkness', 'organism', 'marine mammal', 'computer wallpaper', 'sky']\n",
      "0.006189821182943604 0.1321352858040201 0 ['sky', 'sunlight', 'city', 'aerial photography', 'energy']\n",
      "0.010564725661011768 0.17046110608187998 0 ['wood', 'pattern']\n",
      "0.011663227877120586 0.17464967299733963 0 ['mammal', 'vertebrate', 'fun', 'vacation', 'girl', 'recreation', 'sand']\n",
      "0.007202353660400428 0.14510512119420632 0 ['bird', 'penguin', 'fauna', 'beak', 'flightless bird', 'organism']\n",
      "0.008453690967446126 0.13033804130948862 0 ['flower', 'pink', 'purple', 'dress', 'violet', 'light', 'ceremony', 'darkness', 'lighting', 'petal']\n",
      "0.022208849151765245 0.29607019472361806 1 ['mountainous landforms', 'wilderness', 'hill', 'grassland', 'mountain', 'grass', 'outdoor recreation', 'rural area', 'highland', 'girl']\n",
      "0.060580009170105455 0.38164339620898613 1 ['reptile', 'scaled reptile', 'snake', 'fauna', 'serpent', 'boa constrictor', 'organism', 'macro photography', 'lizard', 'terrestrial animal']\n",
      "0.010440547149625555 0.29236947605675434 1 ['sky', 'wildlife', 'sunlight', 'silhouette', 'stock photography', 'landscape', 'tree']\n",
      "0.0060369860920067245 0.11622508221253325 0 ['insect', 'invertebrate', 'membrane winged insect', 'macro photography', 'pest', 'hornet', 'organism', 'arthropod', 'wasp', 'bee']\n",
      "0.007775485251413724 0.2283926526012415 1 ['sky', 'afterglow', 'horizon', 'red sky at morning', 'dawn', 'highland', 'atmosphere', 'sunrise', 'cloud', 'morning']\n",
      "0.0069539966376279995 0.10291577372154892 0 ['wall', 'tourism', 'historic site', 'archaeological site', 'temple', 'tourist attraction', 'arch', 'crowd', 'leisure']\n",
      "0.007221458046767538 0.2120327048847177 1 ['vegetation', 'water', 'nature', 'reflection', 'swamp', 'ecosystem', 'nature reserve', 'wetland', 'riparian forest', 'flora']\n",
      "0.005205945285037444 0.16354751699674844 0 ['sky', 'ecosystem', 'cloud', 'ecoregion', 'horizon', 'highland', 'steppe', 'badlands', 'aeolian landform', 'plateau']\n",
      "0.027882851902796883 0.4144550879396985 1 ['polar bear', 'bear', 'polar bear', 'mammal', 'fauna', 'terrestrial animal', 'carnivoran', 'arctic', 'snout', 'wildlife']\n",
      "0.015082913036833257 0.11616330734555129 0 ['property', 'sky', 'architecture', 'structure', 'fence', 'residential area', 'facade', 'sunlight', 'wood', 'building']\n",
      "0.006323551887513373 0.1687689365947384 0 ['fish', 'ecosystem', 'marine biology', 'tiger shark', 'requiem shark', 'shark', 'underwater', 'water', 'carcharhiniformes', 'fish']\n",
      "0.011453079627082379 0.1797036653857523 0 ['skull', 'tortoise', 'bone', 'organism', 'emydidae', 'box turtle']\n",
      "0.01853125477609659 0.15705826928761454 0 ['girl', 'eye', 'headgear', 'portrait', 'temple', 'portrait photography', 'smile']\n",
      "0.011663227877120586 0.24893654855158143 1 ['fish', 'marine biology', 'underwater', 'organism', 'water', 'marine mammal', 'computer wallpaper', 'turquoise', 'stock photography']\n",
      "0.004355800091701055 0.0832759847029264 0 ['exhibition', 'art exhibition', 'art gallery', 'art', 'museum', 'picture frame', 'collection', 'window', 'facial hair']\n",
      "0.004107443068928626 0.10019248355749336 0 ['camping', 'tent', 'tree', 'plant', 'recreation', 'landscape']\n",
      "0.012627999388659637 0.16287088013597398 0 ['army', 'soldier', 'military', 'troop', 'military organization', 'vehicle', 'marines', 'infantry']\n",
      "0.030385526516888278 0.2407412753103754 1 ['insect', 'invertebrate', 'macro photography', 'close up', 'organism', 'membrane winged insect', 'pest', 'still life photography', 'snail', 'ant']\n",
      "0.009819654592694483 0.11799230527638191 0 ['mammal', 'child', 'human', 'temple', 'girl']\n",
      "0.0055689286260125325 0.18711549475317765 0 ['waterfall', 'water', 'nature', 'body of water', 'water feature', 'watercourse', 'water resources', 'chute', 'stream', 'rock']\n",
      "0.00935159712670029 0.26723807456399645 1 ['wildlife', 'wilderness', 'grassland', 'ecosystem', 'lion', 'nature reserve', 'fauna', 'masai lion', 'terrestrial animal', 'safari']\n",
      "0.004900275103163687 0.14931851352349984 0 ['fun']\n",
      "0.026984945743542717 0.5577254378510198 1 ['mist', 'tree', 'fog', 'vegetation', 'cloud', 'sky', 'morning', 'atmosphere', 'water', 'plant']\n",
      "0.019295430230780987 0.41246847749778304 1 ['wildlife', 'ecosystem', 'wilderness', 'savanna', 'grassland', 'national park', 'safari', 'fauna', 'ecoregion', 'plain']\n",
      "0.04446545926944827 0.25550604585427134 1 ['snout']\n",
      "0.005712211523765856 0.13391982892403193 0 ['cityscape', 'city', 'skyline', 'metropolitan area', 'urban area', 'skyscraper', 'sky', 'metropolis', 'mixed use', 'condominium']\n",
      "0.013401727036527587 0.1601516313183565 0 ['vegetation', 'nature reserve', 'ecosystem', 'forest', 'geological phenomenon', 'escarpment', 'highland', 'hill station', 'tree', 'biome']\n",
      "0.005807733455601406 0.149127992905705 0 ['rock', 'geology', 'geological phenomenon', 'soil', 'canyon', 'formation', 'outcrop', 'terrain', 'fault', 'bedrock']\n",
      "0.0028274491823322635 0.0810844202630801 0 ['girl']\n",
      "0.021005272810637323 0.4921286118090452 1 ['wildlife', 'mammal', 'lion', 'fauna', 'wilderness', 'terrestrial animal', 'grass', 'big cats', 'sky', 'cat like mammal']\n",
      "0.0026077487391105 0.06811227553207212 0 ['furniture', 'room', 'couch', 'interior design', 'lighting', 'house', 'home', 'girl', 'darkness', 'window']\n",
      "0.010163533547302461 0.13680708228643215 0 ['goats', 'goat', 'fauna', 'herd', 'livestock', 'wildlife', 'rural area', 'cow goat family', 'pasture', 'grass']\n",
      "0.0069922054103622195 0.20940929371120307 1 ['reflection', 'sky', 'cloud', 'water', 'nature', 'loch', 'lake', 'wilderness', 'reservoir', 'lake district']\n",
      "0.004852514137245911 0.09018495510641443 0 ['temple', 'ritual', 'event', 'performance art', 'girl', 'performance', 'performing arts', 'crowd']\n",
      "0.0061325080238422746 0.11492954201152823 0 ['tree', 'grass']\n",
      "0.010822634876967751 0.2706368469184156 1 ['wildlife', 'lion', 'mammal', 'fauna', 'terrestrial animal', 'wilderness', 'big cats', 'cat like mammal', 'organism', 'puma']\n",
      "0.0025217790004585052 0.07655349357079515 0 ['darkness', 'temple', 'night', 'girl', 'recreation']\n",
      "0.005855494421519181 0.09009950949600946 0 ['vertebrate', 'fun', 'child', 'recreation', 'performance', 'girl', 'leisure', 'play', 'event', 'performance art']\n",
      "0.018349763105609047 0.31210106137304167 1 ['historic site', 'ancient history', 'landmark', 'ruins', 'archaeological site', 'sky', 'ancient roman architecture', 'history', 'tourist attraction', 'rock']\n",
      "0.22902338376891335 0.8625976851167603 1 ['fauna', 'terrestrial animal', 'organism', 'wildlife']\n",
      "0.006161164603392939 0.17152628953591487 0 ['nature', 'mountain', 'mountainous landforms', 'wilderness', 'leaf', 'sky', 'highland', 'mountain range', 'valley', 'tree']\n",
      "0.004470426409903714 0.12289734518179131 0 ['sky', 'water', 'sea', 'house', 'ocean', 'home', 'wood', 'evening', 'cloud', 'building']\n",
      "0.008186229558306586 0.18447014484185634 0 ['elephants and mammoths', 'elephant', 'indian elephant', 'mammal', 'vertebrate', 'wildlife', 'terrestrial animal', 'horn', 'safari', 'national park']\n",
      "0.017595139844108206 0.23290568190215785 1 ['purple', 'eye', 'headgear', 'wrinkle', 'human', 'temple', 'tribe', 'elder', 'senior citizen']\n",
      "0.07494650771817209 0.26636918507981083 1 ['mammal', 'wildlife', 'tiger', 'big cats', 'snout']\n",
      "0.011262035763411279 0.22086131484629026 1 ['dog', 'dog breed', 'dog like mammal', 'dog breed group', 'snout', 'carnivoran']\n",
      "0.02839867033470885 0.47919226186077446 1 ['bird', 'water', 'beak', 'fauna', 'organism', 'flightless bird', 'wildlife', 'seabird', 'seaduck', 'penguin']\n",
      "0.008167125171939477 0.07202949490097546 0 ['entertainment', 'performance', 'stage', 'performance art', 'performing arts', 'dancer', 'dance', 'musical theatre', 'event', 'nightclub']\n",
      "0.004346247898517499 0.0923407247635235 0 ['ceremony', 'dress', 'plant', 'tradition', 'event', 'flower', 'tree', 'fun', 'ritual', 'bride']\n",
      "0.009437566865352284 0.26535018844221103 1 ['sky', 'grassland', 'cloud', 'ecosystem', 'prairie', 'field', 'plain', 'savanna', 'pasture', 'horizon']\n",
      "0.002913418920984258 0.072956117905705 0 ['social group', 'crowd', 'community', 'tourism', 'fun', 'sky', 'tree', 'recreation', 'travel', 'adventure']\n",
      "0.050626623872841205 0.6046893474726575 1 ['wildlife', 'dog like mammal', 'dog breed group', 'wolfdog', 'water', 'greenland dog', 'wolf', 'czechoslovakian wolfdog']\n",
      "0.004537291762188598 0.12825905723470293 0 ['sky', 'statue', 'cloud', 'monument', 'sculpture', 'tree', 'tourism', 'soil', 'agriculture']\n",
      "0.007890111569616384 0.08555414942358854 0 ['person', 'cook', 'chef', 'portrait']\n",
      "0.012599342809108972 0.19743824822642625 1 ['wildfire', 'sky', 'atmosphere', 'geological phenomenon', 'fire', 'smoke', 'natural disaster', 'night', 'red sky at morning', 'explosion']\n",
      "0.02227571450405013 0.3898473294782737 1 ['bird', 'roller', 'fauna', 'beak', 'wildlife', 'feather', 'wing', 'coraciiformes', 'organism', 'bluebird']\n",
      "0.00604653828519028 0.1083288686077446 0 ['yellow', 'tribe', 'tradition', 'ritual']\n",
      "0.003133119364206022 0.08135923182086906 0 ['blue', 'couch', 'furniture', 'space', 'world']\n",
      "0.02497898517499618 0.35397402915311854 1 ['owl', 'bird', 'beak', 'bird of prey', 'fauna', 'great grey owl', 'close up', 'wildlife', 'organism']\n",
      "0.00598922512608895 0.14840574656370087 0 ['flame', 'fire', 'darkness', 'light', 'smoke', 'sky', 'bonfire', 'atmosphere', 'night', 'computer wallpaper']\n",
      "0.007049518569463549 0.17174394490836536 0 ['tree', 'black and white', 'woody plant', 'monochrome photography', 'birch', 'trunk', 'monochrome', 'plant', 'flowering plant', 'pattern']\n",
      "0.016429772275714506 0.16953101906591783 0 ['turtle', 'reptile', 'fauna', 'common snapping turtle', 'chelydridae', 'terrestrial animal', 'organism', 'sea turtle', 'tortoise', 'snout']\n",
      "0.005463854500993428 0.076687435338457 0 ['event', 'tradition', 'crowd', 'girl', 'temple', 'ceremony', 'ritual', 'costume']\n",
      "0.005167736512303225 0.08891654966006503 0 ['event', 'crowd']\n",
      "0.0046328136940241476 0.15160707027785988 0 ['sky', 'aerial photography', 'arctic', 'ice cap', 'fell', 'ice', 'geological phenomenon', 'glacial landform', 'mountain', 'highland']\n",
      "0.008730704569769219 0.11435509348211646 0 ['tree', 'plant', 'woody plant', 'leaf', 'grass', 'landscape', 'branch', 'outdoor structure', 'shrub', 'sky']\n",
      "0.0215401956289164 0.22769292233224947 1 ['girl', 'temple', 'child', 'religion', 'fun', 'ritual']\n",
      "0.010039355035916247 0.23384038759976353 1 ['alligator', 'crocodilia', 'american alligator', 'ecosystem', 'nature reserve', 'fauna', 'wildlife', 'bank', 'crocodile', 'grass']\n",
      "0.019371847776249427 0.4073567515888265 1 ['grassland', 'ecosystem', 'prairie', 'field', 'yellow', 'plain', 'savanna', 'crop', 'ecoregion', 'steppe']\n",
      "0.009055479138010088 0.1910858289609814 1 ['cloud', 'sky', 'atmosphere', 'storm', 'thunder', 'cumulus', 'thunderstorm', 'daytime', 'meteorological phenomenon', 'evening']\n",
      "0.029124637016659023 0.4090333330254212 1 ['fish', 'water', 'shark', 'marine biology', 'cartilaginous fish', 'lamniformes', 'great white shark', 'requiem shark', 'tiger shark', 'organism']\n",
      "0.008128916399205257 0.15756921094442802 0 ['sport venue', 'structure', 'stadium', 'biome', 'grass', 'crowd', 'arena', 'sky', 'aerial photography', 'tree']\n",
      "0.0056071373987467525 0.09347461110700561 0 ['water', 'boating', 'sea', 'river', 'recreation', 'vehicle', 'watercraft rowing', 'tree', 'boats and boating equipment and supplies']\n",
      "0.01775752712822864 0.37528809026751403 1 ['bird', 'eagle', 'bird of prey', 'beak', 'bald eagle', 'fauna', 'accipitriformes', 'wildlife', 'tree']\n",
      "0.016659024912119822 0.16930412633018033 0 ['ecosystem', 'mountainous landforms', 'steppe', 'mountain', 'ecoregion', 'grassland', 'hill', 'grass family', 'sky', 'landscape']\n",
      "0.01773842274186153 0.2037161912503695 1 ['climbing', 'rock climbing', 'sport climbing', 'adventure', 'formation', 'rock', 'geological phenomenon', 'geology', 'free climbing', 'rock climbing equipment']\n",
      "0.005473406694176983 0.09416972269435413 0 ['blue', 'green', 'yellow', 'nature', 'tree', 'snapshot', 'sky', 'fun', 'morning', 'plant']\n",
      "0.00768951551276173 0.11032009773130358 0 ['black and white', 'monochrome photography', 'aviation', 'airplane', 'photography', 'monochrome', 'aircraft', 'automotive design', 'wing', 'stock photography']\n",
      "0.015302613480055021 0.37310114450931126 1 ['historic site', 'wall', 'ancient history', 'history', 'archaeological site', 'temple', 'temple', 'sky', 'building', 'ruins']\n",
      "0.0467484334403179 0.4199230296704109 1 ['flower', 'sunflower', 'yellow', 'field', 'plant', 'flowering plant', 'sunflower seed', 'wildflower', 'daisy family', 'spring']\n",
      "0.02264825003820877 0.44336168434082174 1 ['elephant', 'elephants and mammoths', 'terrestrial animal', 'wildlife', 'indian elephant', 'mammal', 'fauna', 'african elephant', 'tusk', 'organism']\n",
      "0.017012456059911356 0.3711561022021874 1 ['elephant', 'elephants and mammoths', 'wildlife', 'terrestrial animal', 'indian elephant', 'fauna', 'african elephant', 'tusk', 'national park', 'safari']\n",
      "0.011548601558917928 0.3221530446349394 1 ['camel', 'arabian camel', 'camel like mammal', 'erg', 'desert', 'sand', 'sahara', 'landscape', 'mustang horse', 'ecoregion']\n",
      "0.005731315910132966 0.17827302874667456 0 ['vegetation', 'leaf', 'autumn', 'field', 'grass', 'hill', 'landscape', 'deciduous', 'tree', 'tundra']\n",
      "0.004279382546232615 0.12765227793378658 0 ['agriculture', 'crop', 'farmworker']\n",
      "0.014032171786642213 0.3530901289535915 1 ['wildlife', 'elephants and mammoths', 'grassland', 'ecosystem', 'savanna', 'elephant', 'wilderness', 'african elephant', 'indian elephant', 'terrestrial animal']\n",
      "0.005330123796423659 0.16985028543452557 0 ['sky', 'sea', 'horizon', 'ocean', 'cloud', 'wave', 'shore', 'atmosphere', 'calm', 'water']\n",
      "0.007956976921901268 0.18299043471031629 0 ['waste', 'recreation', 'vehicle', 'rock climbing equipment', 'adventure']\n",
      "0.01039278618370778 0.2972710519509311 1 ['nature', 'arctic ocean', 'iceberg', 'arctic', 'sky', 'glacial lake', 'sea ice', 'polar ice cap', 'nunatak', 'ice cap']\n",
      "0.009007718172092312 0.27364245399793086 1 ['tree', 'black and white', 'woody plant', 'elephants and mammoths', 'wildlife', 'monochrome photography', 'fauna', 'photography', 'elephant', 'branch']\n",
      "0.05146721687299404 0.2468587191472066 1 ['mammal', 'horn', 'fauna', 'wildlife', 'grass', 'snout', 'soil', 'elephant', 'tree', 'rhinoceros']\n",
      "0.017642900810025983 0.4296211064513745 1 ['wildlife', 'mammal', 'terrestrial animal', 'wilderness', 'lion', 'fauna', 'big cats', 'organism', 'masai lion', 'safari']\n",
      "0.008606526058383005 0.18155460205438959 0 ['fixed link', 'sky', 'water resources', 'wood', 'sea', 'ecoregion', 'water', 'aerial photography', 'horizon']\n",
      "0.00430803912578328 0.1454249648980195 0 ['water', 'standing', 'male', 'light', 'sky', 'sunlight', 'morning', 'human', 'fun', 'vacation']\n",
      "0.006524147944368027 0.09886807659621638 0 ['land vehicle', 'vehicle', 'mode of transport', 'road', 'street', 'bicycle', 'lane', 'bicycle accessory', 'sports equipment', 'pedestrian']\n",
      "0.002598196545926945 0.07029402527342596 0 ['arm', 'sports', 'baseball equipment', 'joint', 'competition event']\n",
      "0.009896072138162923 0.16357638375702038 0 ['facial expression', 'child', 'community', 'fun', 'leisure', 'smile', 'girl', 'recreation', 'crowd', 'happiness']\n",
      "0.02865657955066483 0.26633108095625185 1 ['entertainment', 'festival', 'tourist attraction', 'christmas lights', 'fête', 'lighting', 'christmas decoration', 'city', 'event', 'night']\n",
      "0.021435121503897293 0.1170570222435708 0 ['bird', 'recreation', 'water bird']\n",
      "0.032964618676448114 0.42043223932160806 1 ['wildlife', 'herd', 'fauna', 'wildebeest', 'terrestrial animal', 'animal migration', 'savanna', 'safari']\n",
      "0.019954531560446277 0.28317829958616614 1 ['painting', 'lady', 'girl', 'eye', 'child', 'art', 'portrait', 'human', 'fun', 'smile']\n",
      "0.015636940241479443 0.23153739746526752 1 ['water', 'waterfall', 'geological phenomenon', 'water feature', 'terrain', 'rock', 'geology', 'escarpment', 'sky', 'formation']\n",
      "0.004413113250802384 0.1675374806015371 0 ['geology', 'sand', 'soil', 'sky', 'terrain', 'landscape', 'wadi', 'badlands', 'ecoregion']\n",
      "0.0034483417392633347 0.06193940751551877 0 ['eyewear', 'sunglasses', 'glasses', 'vision care', 'hand', 'fun', 'product', 'nail', 'finger', 'girl']\n",
      "0.023393321106526057 0.2710663843112622 1 ['great ape', 'mammal', 'fauna', 'western gorilla', 'primate', 'terrestrial animal', 'wildlife', 'flora', 'organism', 'grass']\n",
      "0.004479978603087268 0.1313189338235294 0 ['sea', 'water transportation', 'water', 'ocean', 'sailing', 'waterway', 'sailing', 'sail', 'sailboat', 'mast']\n",
      "0.008912196240256763 0.2115390832840674 1 ['boat', 'water transportation', 'water', 'boating', 'canoe', 'vehicle', 'boats and boating equipment and supplies', 'watercraft rowing', 'watercraft', 'vacation']\n",
      "0.007555784808191961 0.1432079977091339 0 ['seals', 'marine mammal', 'organism', 'snout', 'wildlife']\n",
      "0.006591013296652911 0.1841404864395507 0 ['grassland', 'ecosystem', 'fauna', 'pasture', 'horse', 'grass', 'horse like mammal', 'mare', 'wildlife', 'grazing']\n",
      "0.006610117683020021 0.22314236624297962 1 ['reflection', 'nature', 'water', 'sky', 'horizon', 'wetland', 'wilderness', 'dawn', 'lake', 'dusk']\n",
      "0.004852514137245911 0.10292270174401419 0 ['green', 'snapshot', 'girl', 'fun', 'human behavior', 'darkness']\n",
      "0.0032955066483264556 0.1079004858853089 0 ['plant', 'nature', 'green', 'tree', 'community', 'garden', 'rural area', 'water', 'recreation', 'leisure']\n",
      "0.0073838453308879715 0.16495852423884128 0 ['ecosystem', 'bird', 'vertebrate', 'sky', 'bird of prey', 'mountain', 'mountain range', 'condor', 'biome', 'eagle']\n",
      "0.013688292832034234 0.42363760438220516 1 ['water', 'body of water', 'waterway', 'water transportation', 'sky', 'boat', 'calm', 'sea', 'reflection', 'morning']\n",
      "0.004852514137245911 0.1697856238915164 0 ['sky', 'tree', 'cloud', 'residential area', 'leaf', 'suburb', 'morning', 'sunlight', 'plant', 'landscape']\n",
      "0.0170029038667278 0.40611836757315994 1 ['jaguar', 'leopard', 'wildlife', 'terrestrial animal', 'mammal', 'fauna', 'big cats', 'organism', 'whiskers', 'carnivoran']\n",
      "0.028026134800550207 0.3810949277638191 1 ['blue', 'penguin', 'flightless bird', 'king penguin', 'beak', 'petal', 'bird', 'electric blue']\n",
      "0.0025313311936420602 0.05535894084392551 0 ['floor', 'interior design', 'flooring', 'furniture', 'table']\n",
      "0.005759972489683632 0.09955626016109961 0 ['play', 'fun', 'product', 'recreation', 'toy']\n",
      "0.009036374751642977 0.2497020950339935 1 ['water', 'turtle', 'sea turtle', 'ecosystem', 'reptile', 'organism', 'reflection', 'chelydridae', 'common snapping turtle', 'tortoise']\n",
      "0.005454302307809873 0.07741256835648833 0 ['blue', 'sky', 'photography', 'vacation', 'fun', 'cloud', 'sunlight', 'water', 'glasses', 'girl']\n",
      "0.01112830505884151 0.26201088161395214 1 ['landmark', 'town', 'urban area', 'historic site', 'city', 'ancient history', 'history', 'neighbourhood', 'residential area', 'village']\n",
      "0.005740868103316522 0.09689647686964233 0 ['ritual', 'tradition', 'temple', 'festival', 'event', 'tourism', 'fun', 'crowd', 'ceremony', 'recreation']\n",
      "0.005654898364664527 0.14441982430535028 0 ['people', 'tribe', 'tourism', 'tradition', 'middle ages', 'travel', 'recreation', 'sand']\n",
      "0.013287100718324927 0.25377230823233815 1 ['water', 'iceberg', 'arctic ocean', 'sea ice', 'arctic', 'polar ice cap', 'ice', 'melting', 'sea', 'ice cap']\n",
      "0.015178434968668806 0.17661780871268104 1 ['climbing', 'rock climbing', 'sport climbing', 'outdoor recreation', 'adventure', 'rock', 'bouldering', 'recreation', 'rock climbing equipment', 'free climbing']\n",
      "0.003429237352896225 0.0944508849394029 0 ['temple', 'food', 'tradition', 'cuisine', 'event', 'ritual', 'girl', 'dish']\n",
      "0.018340210912425492 0.27090415311853383 1 ['black and white', 'water', 'photography', 'monochrome photography', 'monochrome', 'sky', 'ice', 'freezing', 'rock', 'earth']\n",
      "0.004900275103163687 0.08610377253916641 0 ['soldier', 'army', 'military', 'troop', 'marines', 'jungle', 'plant', 'vehicle', 'tree', 'adventure']\n",
      "0.037664297722757145 0.5922760632205143 1 ['rhinoceros', 'terrestrial animal', 'wildlife', 'mammal', 'fauna', 'horn', 'snout', 'indian elephant', 'safari', 'organism']\n",
      "0.010793978297417087 0.1368359490467041 0 ['gown', 'wedding dress', 'dress', 'woman', 'bridal clothing', 'bride', 'bridal accessory', 'girl', 'textile', 'bridal veil']\n",
      "0.00428893473941617 0.10825208302542122 0 ['mountainous landforms', 'mountain', 'tourism', 'geological phenomenon', 'sky', 'mountain range', 'travel', 'tourist attraction', 'summit', 'fell']\n",
      "0.015808879718783433 0.11017980527638191 0 ['winter', 'snow', 'street', 'tourism', 'ice']\n",
      "0.005559376432828978 0.13811185985072422 0 ['metropolitan area', 'city', 'cityscape', 'urban area', 'night', 'skyline', 'sky', 'metropolis', 'landmark', 'tower block']\n",
      "0.007775485251413724 0.11152210962902749 0 ['horse', 'rein', 'horse tack', 'pack animal', 'jockey', 'bridle', 'equestrianism', 'horse harness', 'horse like mammal', 'trail riding']\n",
      "0.007345636558153752 0.18414568245639965 0 ['reflection', 'sky', 'nature', 'cloud', 'water', 'loch', 'horizon', 'lake', 'calm', 'reservoir']\n",
      "0.01661126394620205 0.3630012424253621 1 ['sea', 'water', 'ocean', 'atmosphere', 'calm', 'underwater', 'sky', 'marine biology', 'horizon', 'wind wave']\n",
      "0.012589790615925417 0.10651084004581732 0 ['urban area', 'wall', 'vehicle', 'car', 'tree', 'road', 'street', 'grass', 'recreation', 'plant']\n",
      "0.018034540730551735 0.12901940770026604 0 ['person', 'girl', 'beauty', 'child', 'eye', 'cheek', 'human', 'temple', 'tradition', 'portrait']\n",
      "0.005597585205563197 0.1562650107153414 0 ['structure', 'architecture', 'tourist attraction', 'metal', 'metropolis', 'building', 'darkness', 'night', 'industry']\n",
      "0.005674002751031637 0.19371270414572864 1 ['sea', 'sky', 'coast', 'cloud', 'ocean', 'rock', 'shore', 'wave', 'water', 'coastal and oceanic landforms']\n",
      "0.011491288399816597 0.23352689458321016 1 ['horse', 'horse like mammal', 'stallion', 'mustang horse', 'mane', 'sky', 'sunlight', 'horse supplies', 'ecoregion', 'mare']\n",
      "0.019238117071679658 0.34373325727904225 1 ['wind farm', 'energy', 'water resources', 'wind', 'fixed link', 'wind turbine', 'road', 'highway', 'windmill', 'machine']\n",
      "0.005731315910132966 0.20501577279781258 1 ['rock', 'sky', 'canyon', 'wilderness', 'formation', 'badlands', 'national park', 'geology', 'cliff', 'terrain']\n",
      "0.02521779000458505 0.5324606719258055 1 ['sea', 'horizon', 'sky', 'body of water', 'water', 'ocean', 'atmosphere', 'shore', 'calm', 'cloud']\n",
      "0.019448265321717867 0.28654127715784805 1 ['seals', 'walrus', 'organism', 'snout', 'wildlife', 'marine mammal']\n",
      "0.02389958734525447 0.3969745325894177 1 ['wildlife', 'lion', 'terrestrial animal', 'mammal', 'fauna', 'masai lion', 'mane', 'big cats', 'whiskers', 'snout']\n",
      "0.006103851444291609 0.11170974357079515 0 ['beach', 'surfing equipment and supplies', 'body of water', 'yellow', 'fun', 'sea', 'vacation', 'water', 'surfboard', 'girl']\n",
      "0.014968286718630597 0.119187966486846 0 ['outerwear', 'tradition', 'theatre', 'darkness']\n",
      "0.058774644658413575 0.17939421371563702 1 ['art', 'portrait', 'picture frame', 'painting', 'modern art', 'girl']\n",
      "0.032697157267308576 0.3832836055276382 1 ['wildlife', 'grizzly bear', 'water', 'brown bear', 'mammal', 'bear', 'fauna', 'wilderness', 'snout', 'american black bear']\n",
      "0.008090707626471037 0.1947998263375702 1 ['car', 'dog', 'dog breed', 'snout', 'dog like mammal', 'hunting dog']\n",
      "0.011930689286260125 0.21949764909104344 1 ['rock', 'wilderness', 'mountain', 'cliff', 'escarpment', 'sky', 'ridge', 'highland', 'outdoor recreation', 'terrain']\n",
      "0.011567705945285037 0.14638565067986994 0 ['recreation', 'event']\n",
      "0.004804753171328137 0.15668762008572273 0 ['sea', 'water', 'sky', 'ocean', 'horizon', 'water bird', 'calm', 'shore', 'sunset', 'bird']\n",
      "0.004919379489530796 0.08019705605232043 0 ['tradition', 'street', 'temple', 'religion', 'event']\n",
      "0.005702659330582302 0.1993653931421815 1 ['water', 'sea', 'rock', 'sky', 'reflection', 'ocean', 'shore', 'coast', 'vacation', 'tourism']\n",
      "0.009131896683478526 0.17488233908513154 0 ['yellow', 'reflection', 'darkness', 'light', 'photography', 'lighting', 'night', 'water', 'sky', 'fun']\n",
      "0.0028465535686993735 0.07922886491279929 0 ['rock', 'close up', 'wood', 'trunk', 'formation', 'organism', 'geology', 'tree', 'macro photography']\n",
      "0.009896072138162923 0.21911776252586462 1 ['winter', 'snow', 'sky', 'ice', 'freezing', 'arctic', 'tourism']\n",
      "0.004279382546232615 0.10422863397871711 0 ['plant', 'urban area', 'sky', 'reflection', 'leaf', 'residential area', 'grass', 'tree', 'evening', 'house']\n",
      "0.0032955066483264556 0.09184825783328407 0 ['fire', 'campfire', 'bonfire', 'flame', 'heat', 'darkness', 'night', 'event', 'tradition', 'fun']\n",
      "0.007622650160476845 0.19538120288944724 1 ['polar bear', 'mammal', 'fauna', 'bear', 'wildlife', 'polar bear', 'grizzly bear', 'water', 'arctic', 'carnivoran']\n",
      "0.022705563197310104 0.14882373725243866 0 ['face', 'facial expression', 'person', 'smile', 'emotion', 'chin', 'black hair', 'girl', 'tooth', 'laughter']\n",
      "0.003973712364358857 0.060615577889447235 0 ['electronic device', 'technology', 'mobile phone', 'gadget', 'finger', 'muscle', 'electronics']\n",
      "0.013191578786489378 0.15133225872007094 0 ['tradition', 'flower', 'petal']\n",
      "0.012035763411279229 0.2812869494531481 1 ['nature', 'ecosystem', 'highland', 'grassland', 'tundra', 'wilderness', 'sky', 'mountain', 'cloud', 'plain']\n",
      "0.010526516888277548 0.24493215156665682 1 ['dolphin', 'marine mammal', 'common bottlenose dolphin', 'spinner dolphin', 'whales dolphins and porpoises', 'mammal', 'short beaked common dolphin', 'fauna', 'stenella', 'rough toothed dolphin']\n",
      "0.0021874522390340823 0.08489598728938812 0 ['water', 'vehicle', 'boating', 'boat', 'recreation', 'personal protective equipment', 'vacation', 'fishing', 'fun']\n",
      "0.00430803912578328 0.09378810412355897 0 ['glass', 'welder']\n",
      "0.00517728870548678 0.09533074379249187 0 ['furniture', 'musical instrument', 'guitar', 'shelving', 'plucked string instruments', 'string instrument', 'table', 'music', 'musical instrument accessory', 'interior design']\n",
      "0.007651306740027511 0.22925461406296188 1 ['wildlife', 'ecosystem', 'savanna', 'sky', 'sunrise', 'grassland', 'morning', 'sunlight', 'grass', 'deer']\n",
      "0.0068966834785266695 0.2077916004655631 1 ['sand', 'landscape']\n",
      "0.011548601558917928 0.2917650060966598 1 ['vegetation', 'rock', 'water', 'bedrock', 'geology', 'formation', 'outcrop', 'escarpment', 'landscape', 'tree']\n",
      "0.037530567018187376 0.4703099597250961 1 ['crocodilia', 'crocodile', 'nile crocodile', 'american alligator', 'reptile', 'alligator', 'fauna', 'organism', 'terrestrial animal', 'wildlife']\n",
      "0.013497248968363136 0.17603931883683122 0 ['organism']\n",
      "0.008224438331040806 0.22040002401714454 1 ['mountain', 'mountainous landforms', 'sky', 'ridge', 'geological phenomenon', 'adventure', 'atmosphere', 'cloud', 'terrain', 'mountaineer']\n",
      "0.005683554944215192 0.1678157561705587 0 ['historic site', 'sky', 'landmark', 'ancient history', 'archaeological site', 'medieval architecture', 'building', 'unesco world heritage site', 'ruins', 'history']\n",
      "0.012771282286412961 0.22832799105823234 1 ['column', 'sky', 'structure', 'light', 'architecture', 'tourist attraction', 'evening', 'darkness', 'sunset']\n",
      "0.02928702430077946 0.47471329533697904 1 ['ridge', 'cliff', 'mountain', 'highland', 'mountainous landforms', 'wilderness', 'sky', 'rock', 'fell', 'geological phenomenon']\n",
      "0.009074583524377197 0.26498242591634646 1 ['nature', 'autumn', 'leaf', 'tree', 'branch', 'sky', 'deciduous', 'sunlight', 'maple leaf', 'morning']\n",
      "0.004995797034999236 0.1294812758646172 0 ['tradition', 'carnival', 'festival', 'temple', 'ritual', 'event', 'fête', 'computer wallpaper', 'religion']\n",
      "0.002884762341433593 0.07665683657256872 0 ['photograph', 'mammal', 'room', 'fun', 'organ', 'wood', 'girl', 'window', 'furniture', 'glass']\n",
      "0.02089064649243466 0.09776536635382796 0 ['material']\n",
      "0.0035725202506495493 0.09468759237363288 0 ['sky', 'cloud', 'tent', 'structure', 'ecoregion', 'roof', 'landscape']\n",
      "0.024577793061286872 0.3995032607892403 1 ['polar bear', 'mammal', 'bear', 'fauna', 'carnivoran', 'polar bear', 'organism', 'wildlife', 'snout']\n",
      "0.012073972184013449 0.25934417030002954 1 ['sea', 'sky', 'ocean', 'horizon', 'cloud', 'body of water', 'shore', 'water', 'wave', 'beach']\n",
      "0.0055880330123796425 0.1819264059266923 0 ['sky', 'cloud', 'horizon', 'dawn', 'morning', 'evening', 'sunset', 'hill', 'rural area', 'tree']\n",
      "0.02667927556166896 0.24778707415755247 1 ['insect', 'beak', 'macro photography']\n",
      "0.007154592694482653 0.151795281554833 0 ['oil rig', 'sea', 'sky', 'atmosphere', 'calm', 'geological phenomenon', 'floating production storage and offloading', 'horizon', 'ocean', 'energy']\n",
      "0.04576455754241174 0.12348795909695537 0 ['factory', 'dairy']\n",
      "0.008893091853889652 0.2269285305202483 1 ['bird', 'water', 'sky', 'water bird', 'sea', 'shorebird', 'seabird', 'beak']\n",
      "0.05411317438483876 0.3671182197753473 1 ['fauna', 'terrestrial animal', 'wildlife', 'organism', 'snout', 'primate']\n",
      "0.007804141830964389 0.18624602793378658 0 ['mountainous landforms', 'wilderness', 'mountain', 'highland', 'sky', 'hill', 'cloud', 'grassland', 'grass', 'rural area']\n",
      "0.01194024147944368 0.3556471465784806 1 ['wilderness', 'canyon', 'national park', 'wadi', 'narrows', 'mountain', 'geological phenomenon', 'rock', 'geology', 'terrain']\n",
      "0.018617224514748586 0.31818732910877917 1 ['wildlife', 'canis lupus tundrarum', 'mammal', 'fauna', 'wolf', 'terrestrial animal', 'dog like mammal', 'tundra', 'grass', 'snout']\n",
      "0.018512150389729483 0.21769867259089565 1 ['fashion accessory', 'headgear', 'hat', 'cowboy hat', 'smile', 'fedora', 'facial hair']\n",
      "0.002894314534617148 0.08221541993053502 0 ['crowd', 'street food', 'vehicle', 'market']\n",
      "0.00784235060369861 0.22208815215784805 1 ['crocodilia', 'crocodile', 'reptile', 'fauna', 'nile crocodile', 'alligator', 'american alligator', 'organism', 'wildlife', 'terrestrial animal']\n",
      "0.012102628763564114 0.2575948446275495 1 ['sky', 'arctic', 'nunatak', 'flight', 'snow', 'mountain', 'glacial landform', 'bird', 'ice', 'wing']\n",
      "0.004527739569005044 0.1695367924179722 0 ['underwater', 'turtle', 'sea turtle', 'marine biology', 'reef', 'sea', 'loggerhead', 'organism', 'coral reef']\n",
      "0.007794589637780834 0.22551290459651196 1 ['sea', 'coastal and oceanic landforms', 'body of water', 'sky', 'coast', 'beach', 'ocean', 'shore', 'headland', 'promontory']\n",
      "0.008482347546996791 0.17388181717410583 0 ['sky', 'singing sand', 'cloud', 'erg', 'sand', 'dune', 'aeolian landform', 'landscape', 'ecoregion', 'horizon']\n",
      "0.010708008558765093 0.27023906296186817 1 ['nature', 'autumn', 'leaf', 'tree', 'woody plant', 'vegetation', 'deciduous', 'maple tree', 'woodland', 'temperate broadleaf and mixed forest']\n",
      "0.003897294818890417 0.0893310763375702 0 ['bone', 'skull', 'skeleton', 'jaw', 'organism', 'tautavel man', 'fossil']\n",
      "0.05343496866880636 0.45098135438220516 1 ['tree', 'nature reserve', 'rock', 'woody plant', 'formation', 'old growth forest', 'forest', 'outcrop', 'bedrock', 'geology']\n",
      "0.06383730704569769 0.5097713983520544 1 ['wildlife', 'mammal', 'fauna', 'reflection', 'water', 'tree', 'macaque', 'primate', 'orangutan', 'new world monkey']\n",
      "0.028599266391563502 0.44007953369790126 1 ['sky', 'red sky at morning', 'afterglow', 'sunset', 'horizon', 'sunrise', 'atmosphere', 'dawn', 'cloud', 'daytime']\n",
      "0.009045926944826532 0.2814514899866982 1 ['sky', 'badlands', 'wilderness', 'cloud', 'horizon', 'geological phenomenon', 'national park', 'atmosphere', 'rock', 'canyon']\n",
      "0.006505043558000917 0.21043290903044634 1 ['tree', 'wilderness', 'sky', 'path', 'morning', 'landscape', 'savanna', 'plant', 'national park', 'shrubland']\n",
      "0.0030471496255540273 0.07353633978717115 0 ['climbing harness', 'headgear', 'sports equipment', 'electric blue', 'personal protective equipment', 'outerwear', 'product', 'rock climbing equipment', 'hiking equipment', 'fun']\n",
      "0.008148020785572368 0.1425250101610996 0 ['facial expression', 'product', 'fun', 'smile', 'child', 'recreation', 'girl']\n",
      "0.008835778694788323 0.17716569982264263 0 ['fauna', 'wildlife', 'nature reserve', 'primate', 'jungle', 'terrestrial animal', 'organism', 'forest', 'rainforest', 'grass']\n",
      "0.004661470273574813 0.08548660120455218 0 ['photograph', 'flower', 'ceremony', 'bride', 'event', 'function hall', 'tradition', 'wedding', 'wedding reception', 'flower arranging']\n",
      "0.009160553263029192 0.22720507408365356 1 ['black', 'black and white', 'wildlife', 'monochrome photography', 'mammal', 'fauna', 'monochrome', 'darkness', 'organism', 'big cats']\n",
      "0.024682867186305975 0.16764024626810523 1 ['outerwear', 'darkness', 'temple', 'girl']\n",
      "0.016725890264404707 0.2004415459651197 1 ['aerial photography', \"bird's eye view\", 'coastal and oceanic landforms', 'water resources', 'artificial island', 'water transportation', 'fixed link', 'sea', 'port', 'peninsula']\n",
      "0.008883539660706099 0.19391534880283773 1 ['sky', 'city', 'urban area', 'tree', 'metropolitan area', 'road', 'landmark', 'woody plant', 'cityscape', 'cloud']\n",
      "0.0069157878648937795 0.23068582803724505 1 ['bird', 'fauna', 'beak', 'bluebird']\n",
      "0.018139614855570838 0.1416341819391073 0 ['mammal', 'fauna', 'primate', 'macaque', 'great ape', 'fur', 'common chimpanzee', 'wildlife', 'old world monkey', 'snout']\n",
      "0.01694559070762647 0.14703168877475614 0 ['building', 'urban area', 'tower block', 'metropolitan area', 'architecture', 'residential area', 'condominium', 'metropolis', 'city', 'neighbourhood']\n",
      "0.00683937031942534 0.08479264428761454 0 ['white', 'outerwear', 'girl', 'child', 'smile', 'neck', 'sleeve']\n",
      "0.029564037903102552 0.4614611430313331 1 ['elephant', 'elephants and mammoths', 'wildlife', 'terrestrial animal', 'indian elephant', 'african elephant', 'tusk', 'fauna', 'safari', 'organism']\n",
      "0.01852170258291304 0.12737053835353238 0 ['muscle', 'headgear', 'chest', 'barechestedness', 'art', 'back', 'sombrero']\n",
      "0.01802498853736818 0.2786046500886787 1 ['snake', 'reptile', 'scaled reptile', 'serpent', 'viper', 'fauna', 'terrestrial animal', 'rattlesnake', 'boa constrictor', 'boas']\n",
      "0.024510927709001987 0.46412900901566656 1 ['marine mammal', 'mammal', 'whales dolphins and porpoises', 'dolphin', 'water', 'wildlife', 'common bottlenose dolphin', 'short beaked common dolphin', 'whale', 'stenella']\n",
      "0.004355800091701055 0.08770183638782146 0 ['room', 'table', 'home appliance', 'furniture', 'kitchen', 'interior design', 'cuisine']\n",
      "0.007240562433134648 0.24405287004877327 1 ['mountainous landforms', 'nature', 'mountain', 'wilderness', 'sky', 'mountain range', 'leaf', 'mount scenery', 'highland', 'national park']\n",
      "0.020088262265016046 0.1129833450339935 0 ['sport venue', 'man', 'fan', 'stadium', 'structure', 'player', 'jersey', 'product', 'outerwear', 'competition event']\n",
      "0.05103736817973407 0.5740732615282294 1 ['penguin', 'flightless bird', 'bird', 'fauna', 'water', 'sky', 'beak']\n",
      "0.010134876967751796 0.19208461886639078 1 ['horse', 'horse like mammal', 'mane', 'stallion', 'bridle', 'mustang horse', 'rein', 'horse tack', 'mare', 'sky']\n",
      "0.007565337001375516 0.1643823437038132 0 ['metropolitan area', 'cityscape', 'city', 'skyscraper', 'metropolis', 'skyline', 'urban area', 'sky', 'landmark', 'tower block']\n",
      "0.09208314228946966 0.4260150707582028 1 ['orangutan', 'mammal', 'great ape', 'primate', 'eye', 'organism', 'common chimpanzee', 'snout', 'terrestrial animal', 'temple']\n",
      "0.007536680421824851 0.15959796685634053 0 ['freezing', 'formation', 'geological phenomenon', 'canyon', 'mountain', 'ice', 'geology', 'atmosphere', 'sky', 'terrain']\n",
      "0.009972489683631361 0.1978862603458469 1 ['ecosystem', 'fauna', 'tree', 'bird', 'flora', 'beak', 'wildlife', 'old growth forest', 'forest', 'rainforest']\n",
      "0.009695476081308269 0.10292674309045226 0 ['people', 'social group', 'sitting', 'fun', 'family', 'girl', 'house']\n",
      "0.006103851444291609 0.14456935412355898 0 ['water', 'reflection', 'river', 'recreation', 'boat', 'vacation', 'tree', 'vehicle', 'sea', 'boating']\n",
      "0.005368332569157879 0.19920951263671297 1 ['highland', 'sky', 'hill', 'loch', 'wilderness', 'morning', 'mist', 'ridge', 'fell', 'atmosphere']\n",
      "0.19098655051199756 0.5228636288057936 1 ['wildlife', 'ecosystem', 'grassland', 'fauna', 'nature reserve', 'pasture', 'grass', 'savanna', 'steppe', 'ecoregion']\n",
      "0.04510545621274645 0.35821975225391667 1 ['rein', 'ecosystem', 'bridle', 'horse', 'steppe', 'endurance riding', 'grassland', 'mare', 'pasture', 'western riding']\n",
      "0.004097890875745071 0.13185758757020397 0 ['field', 'farm', 'agriculture', 'rural area', 'plant', 'harvest', 'tree', 'grass', 'grass family', 'hay']\n",
      "0.01897065566254012 0.29970336517144547 1 ['horse', 'horse like mammal', 'ecosystem', 'fauna', 'woody plant', 'tree', 'mane', 'mare', 'mustang horse', 'pasture']\n",
      "0.013688292832034234 0.34644904208542715 1 ['sky', 'badlands', 'wilderness', 'ecosystem', 'mountain', 'mountainous landforms', 'mountain range', 'dawn', 'horizon', 'highland']\n",
      "0.003992816750725966 0.11587117573159918 0 ['slum', 'recreation']\n",
      "0.005110423353201895 0.11699755671741058 0 ['badlands', 'rock', 'formation', 'sky', 'geological phenomenon', 'national park', 'escarpment', 'wadi', 'mountain', 'geology']\n",
      "0.0068966834785266695 0.17728405353975762 0 ['coral reef', 'coral', 'marine biology', 'reef', 'ecosystem', 'underwater', 'organism', 'marine invertebrates', 'stony coral', 'coral reef fish']\n",
      "0.010965917774721076 0.11023522945610405 0 ['sport venue', 'sports', 'team sport', 'basketball player', 'basketball', 'team', 'ball game', 'basketball moves', 'tournament', 'audience']\n",
      "0.006122955830658719 0.1469941619864026 0 ['waterway', 'water', 'reflection', 'city', 'building', 'urban area', 'condominium', 'canal', 'town', 'tower block']\n",
      "0.0042029650007641755 0.10807484111735147 0 ['ecosystem', 'wilderness', 'sky', 'shrubland', 'badlands', 'rock', 'landscape', 'plant community', 'ecoregion', 'biome']\n",
      "0.11442572214580468 0.9652063165090157 1 ['polar bear', 'bear', 'polar bear', 'mammal', 'arctic', 'arctic ocean', 'polar ice cap', 'carnivoran', 'wildlife', 'ice cap']\n",
      "0.022829741708696318 0.39704150347324857 1 ['wildlife', 'mammal', 'wolf', 'fauna', 'coyote', 'jackal', 'dog like mammal', 'snout']\n",
      "0.016506189821182942 0.12116533956547443 0 ['tree', 'organism', 'fictional character', 'computer wallpaper']\n",
      "0.00942801467216873 0.2443715590821756 1 ['sky', 'mountainous landforms', 'mountain range', 'cloud', 'mountain', 'ridge', 'highland', 'fell', 'hill', 'alps']\n",
      "0.008644734831117225 0.23822755782589417 1 ['wildlife', 'fauna', 'mane', 'organism', 'grass', 'snout', 'savanna', 'prairie', 'grass family']\n",
      "0.0068966834785266695 0.1786205845403488 0 ['cattle like mammal', 'grassland', 'sky', 'ecosystem', 'wildlife', 'pasture', 'prairie', 'field', 'highland', 'grazing']\n",
      "0.009208314228946966 0.27622256503103754 1 ['sky', 'badlands', 'wilderness', 'cloud', 'horizon', 'geological phenomenon', 'national park', 'atmosphere', 'rock', 'canyon']\n",
      "0.05103736817973407 0.5750056578850133 1 ['sea', 'arctic ocean', 'sea ice', 'iceberg', 'arctic', 'ocean', 'coastal and oceanic landforms', 'wind wave', 'wave', 'polar ice cap']\n",
      "0.023546156197462937 0.32966071164646765 1 ['bird', 'hummingbird', 'beak', 'fauna', 'wildlife', 'wing', 'organism', 'pollinator', 'feather', 'coraciiformes']\n",
      "0.009771893626776707 0.2819520396098138 1 ['sky', 'nature', 'night', 'atmosphere', 'astronomical object', 'lighting', 'outer space', 'star', 'darkness', 'landscape']\n",
      "0.02424346629986245 0.4585611882944132 1 ['sky', 'cliff', 'cloud', 'rock', 'geological phenomenon', 'terrain', 'national park', 'mountain', 'escarpment', 'formation']\n",
      "0.016047684548372305 0.3140882491501626 1 ['sky', 'cloud', 'water', 'sea', 'reflection', 'shore', 'river', 'water resources', 'horizon', 'meteorological phenomenon']\n",
      "0.0055498242396454225 0.08637050140407922 0 ['fashion accessory', 'headgear', 'smile', 'hat', 'tradition', 'sombrero', 'temple', 'phd']\n",
      "0.0030471496255540273 0.07842348230121195 0 ['light', 'lighting', 'night', 'darkness', 'technology', 'midnight', 'world', 'computer wallpaper']\n",
      "0.007326532171786642 0.23468733834614247 1 ['historic site', 'landmark', 'archaeological site', 'ancient history', 'unesco world heritage site', 'tourist attraction', 'medieval architecture', 'biome', 'landscape', 'ruins']\n",
      "0.006696087421672016 0.1379236485737511 0 ['religion', 'tradition', 'ritual', 'temple', 'carnival', 'patriarch', 'festival']\n",
      "0.005960568546538285 0.2122532469331954 1 ['mountainous landforms', 'mountain', 'ridge', 'wilderness', 'highland', 'mountain range', 'sky', 'fell', 'geological phenomenon', 'aerial photography']\n",
      "0.004031025523460186 0.10908286838604789 0 ['bird', 'fauna', 'beak', 'nightingale', 'wing', 'feather', 'organism', 'old world flycatcher', 'wildlife', 'emberizidae']\n",
      "0.010908604615619747 0.21546727202187407 1 ['water', 'sea', 'underwater', 'ocean', 'marine biology', 'swimming', 'organism', 'reef', 'snorkeling', 'turquoise']\n",
      "0.015617835855112333 0.34601315400532073 1 ['penguin', 'arctic ocean', 'flightless bird', 'arctic', 'ice', 'polar ice cap', 'sea ice', 'iceberg', 'bird', 'ice cap']\n",
      "0.005416093535075653 0.1732606044930535 0 ['ecosystem', 'soil', 'vegetation', 'shrubland', 'wilderness', 'savanna', 'landscape', 'rock', 'ecoregion', 'tree']\n",
      "0.003973712364358857 0.07495889373337275 0 ['bishop', 'cardinal', 'pope', 'tradition', 'clergy', 'outerwear', 'auxiliary bishop', 'academic dress', 'bishop', 'cope']\n",
      "0.004499082989454378 0.12592431366390777 0 ['water', 'water feature', 'tree', 'fountain']\n",
      "0.005788629069234296 0.17907667935264557 0 ['sky', 'rock', 'extreme sport', 'adventure', 'canyon', 'geology', 'formation', 'sand', 'reflection', 'terrain']\n",
      "0.009227418615314077 0.12182176969405853 0 ['cloud', 'mountainous landforms', 'sky', 'mountain', 'hill station', 'water', 'lake', 'tourism', 'recreation', 'hill']\n",
      "0.007679963319578175 0.21783492369937926 1 ['reflection', 'sky', 'formation', 'water', 'rock', 'night', 'evening', 'canyon', 'landscape', 'calm']\n",
      "0.005664450557848082 0.1761992406887378 0 ['mountainous landforms', 'ridge', 'snow', 'geological phenomenon', 'sky', 'mountain', 'mountain range', 'glacial landform', 'winter', 'nunatak']\n",
      "0.028828519027968822 0.09334066933934378 0 ['facial hair', 'moustache', 'beard', 'gentleman', 'fedora', 'headgear', 'rabbi', 'suit', 'hat', 'formal wear']\n",
      "0.005521167660094758 0.12841609241058233 0 ['ecosystem', 'sky', 'agriculture', 'grass', 'cloud', 'landscape', 'ecoregion', 'grass family', 'tree']\n",
      "0.007555784808191961 0.17281086036801654 0 ['mode of transport', 'cattle like mammal', 'ecoregion', 'yak', 'steppe', 'sky', 'pack animal', 'herd', 'sand', 'tundra']\n",
      "0.006868026898976005 0.18810966597694354 0 ['water', 'underwater', 'fauna', 'marine biology', 'fish', 'organism', 'wildlife', 'marine mammal']\n",
      "0.010927709001986856 0.16602313035767072 0 ['girl', 'eye', 'human', 'child', 'fun']\n",
      "0.005674002751031637 0.1638003898167307 0 ['soil', 'sky', 'field', 'rural area', 'prairie', 'grass family', 'grass', 'landscape', 'shrubland', 'tree']\n",
      "0.016668577105303378 0.39868575413833873 1 ['water', 'marine mammal', 'ocean', 'sea', 'whale', 'whales dolphins and porpoises', 'wildlife']\n",
      "0.008988613785725203 0.2905606848581141 1 ['sky', 'wilderness', 'canyon', 'national park', 'geological phenomenon', 'badlands', 'cloud', 'horizon', 'atmosphere', 'mountain']\n",
      "0.0063713128534311474 0.16750572716523796 0 ['sky', 'urban area', 'morning', 'city', 'tree', 'evening', 'town', 'dawn', 'light', 'dusk']\n",
      "0.021549747822099955 0.31353804869937923 1 ['yellow', 'plant', 'field', 'farm', 'agriculture', 'tree', 'grass', 'rural area', 'farmworker', 'sky']\n",
      "0.021072138162922208 0.2701726694132427 1 ['mountain', 'rock', 'highland', 'mount scenery', 'fell', 'outcrop', 'escarpment', 'terrain', 'grass', 'volcanic plug']\n",
      "0.00419341280758062 0.1303894241427727 0 ['totem', 'totem pole', 'artifact', 'outdoor structure', 'fun', 'recreation', 'vacation', 'tree', 'tourism']\n",
      "0.0054925110805440925 0.13702069631244457 0 ['coast', 'cliff', 'historic site', 'promontory', 'rock', 'sea', 'terrain', 'tourism', 'cape', 'klippe']\n",
      "0.06268149167048755 0.6905471752143069 1 ['snow', 'polar bear', 'mountain goat', 'arctic', 'sky', 'freezing', 'mountain', 'winter', 'polar bear', 'geological phenomenon']\n",
      "0.012350985786336543 0.07713082877623412 0 ['blue', 'shoulder', 'black hair', 'white collar worker', 'long hair', 'girl', 'neck', 'sleeve']\n",
      "0.03317476692648632 0.3005439652305646 1 ['dog', 'dog breed', 'dog like mammal', 'king charles spaniel', 'cavalier king charles spaniel', 'spaniel', 'dog breed group', 'snout', 'puppy', 'whiskers']\n",
      "0.010068011615466912 0.2724340914129471 1 ['water resources', 'nature', 'ecosystem', 'nature reserve', 'aerial photography', 'vegetation', 'archipelago', 'reservoir', 'crater lake', 'lake']\n",
      "0.0041265474552957355 0.08383657718740763 0 ['recreation', 'tree', 'vehicle', 'plant', 'tourism']\n",
      "0.014175454684395537 0.16121392809636417 0 ['photograph', 'photography', 'male', 'smile', 'vacation', 'fun', 'family', 'tourism', 'friendship']\n",
      "0.007536680421824851 0.2083469969331954 1 ['iceberg', 'water', 'sea ice', 'ice', 'sea', 'freezing', 'arctic ocean', 'arctic', 'calm', 'sky']\n",
      "0.1465593000152835 0.4361086221548921 1 ['fauna', 'mammal', 'fur', 'macaque', 'old world monkey', 'primate', 'organism', 'wildlife', 'viverridae', 'snout']\n",
      "0.007164144887666208 0.187722274054094 0 ['mountainous landforms', 'sky', 'mountain', 'mountain range', 'geological phenomenon', 'morning', 'ridge', 'rock', 'summit', 'alps']\n",
      "0.008931300626623872 0.17867889539609813 0 ['zebra', 'wildlife', 'terrestrial animal', 'black and white', 'mammal', 'fauna', 'horse like mammal', 'mane', 'organism', 'monochrome photography']\n",
      "0.004728335625859698 0.19204131872598285 1 ['sea', 'sky', 'coast', 'cloud', 'water', 'coastal and oceanic landforms', 'bay', 'ocean', 'loch', 'boat']\n",
      "0.0041265474552957355 0.14441520562370677 0 ['sky', 'atmosphere', 'geological phenomenon', 'sunlight', 'terrain', 'ecoregion', 'horizon', 'screenshot', 'landscape', 'sunrise']\n",
      "0.00432714351215039 0.1542778229382205 0 ['highland', 'wilderness', 'badlands', 'tundra', 'sky', 'fell', 'mountain', 'hill', 'geology', 'terrain']\n",
      "0.008014290081002599 0.07154164665237954 0 ['red', 'yellow', 'man', 'standing', 'boy', 't shirt', 'male', 'human', 'temple', 'fun']\n",
      "0.01918080391257833 0.15133052671445463 0 ['ecosystem', 'aerial photography', 'ecoregion', 'plain', 'water resources', 'land lot', 'landscape', 'escarpment', \"bird's eye view\", 'wadi']\n",
      "0.024119287788476235 0.25038796925805495 1 ['fauna', 'mammal', 'squirrel', 'wildlife', 'rodent', 'tail', 'organism', 'chipmunk', 'snout']\n",
      "0.0042411737734983955 0.09506574693319539 0 ['snapshot', 'album cover', 'girl', 'square', 'darkness', 'fun']\n",
      "0.00940891028580162 0.15061058971327224 0 ['sitting', 'human behavior', 'temple', 'human', 'girl', 'fun', 'leisure', 'child', 'furniture']\n",
      "0.01815871924193795 0.3735936114395507 1 ['nature', 'mist', 'sky', 'tree', 'vegetation', 'highland', 'mount scenery', 'mountainous landforms', 'wilderness', 'woody plant']\n",
      "0.01838797187834327 0.2251428327298256 1 ['beak', 'fauna', 'organism', 'bird', 'wing', 'feather']\n",
      "0.009676371694941158 0.2775111772095773 1 ['balloon', 'fun', 'party supply']\n"
     ]
    },
    {
     "name": "stdout",
     "output_type": "stream",
     "text": [
      "0.016506189821182942 0.1415244882500739 0 ['room', 'fun', 'vacation', 'recreation', 'leisure']\n",
      "0.012083524377197005 0.25233358890038426 1 ['waterfall', 'water', 'nature', 'green', 'body of water', 'water feature', 'watercourse', 'leaf', 'water resources', 'chute']\n",
      "0.040300703041418307 0.41454919357818504 1 ['wildlife', 'mammal', 'fauna', 'fox', 'terrestrial animal', 'kit fox', 'whiskers', 'arctic fox', 'viverridae', 'snout']\n",
      "0.07666590249121198 0.20714325302985515 1 ['tree', 'sky', 'soil', 'plant', 'grass family', 'landscape', 'forest', 'shrubland', 'grass', 'branch']\n",
      "0.014834556014060828 0.20333284067395802 1 ['water', 'sea', 'marine biology', 'ocean', 'shark', 'coastal and oceanic landforms', 'vacation', 'fish', 'sky', 'lagoon']\n",
      "0.005358780375974323 0.09931724338604789 0 ['public space', 'recreation', 'town square', 'sports', 'pedestrian', 'fun', 'leisure', 'tourism', 'city', 'street']\n",
      "0.039068470120739725 0.265577658513154 1 ['man', 'person', 'facial hair', 'emotion', 'darkness', 'fun', 'interaction', 'human body', 'girl', 'human']\n",
      "0.006705639614855571 0.20690481359000887 1 ['desert', 'erg', 'aeolian landform', 'singing sand', 'sahara', 'sky', 'dune', 'sand', 'landscape', 'ecoregion']\n",
      "0.03476043099495644 0.5534797147502217 1 ['elephants and mammoths', 'elephant', 'mammal', 'indian elephant', 'wildlife', 'african elephant', 'reflection', 'terrestrial animal', 'sky']\n",
      "0.014987391104997708 0.35349715027342593 1 ['bird', 'beak', 'fauna', 'wildlife', 'flora', 'coraciiformes', 'organism']\n",
      "0.003992816750725966 0.09368764779781259 0 ['plant', 'tree', 'fun', 'recreation', 'travel', 'vacation', 'vehicle', 'grass', 'tourism']\n",
      "0.01881782057160324 0.34585496415903044 1 ['rock', 'cliff dwelling', 'geology', 'soil', 'formation', 'bedrock', 'archaeological site', 'fault', 'outcrop', 'wadi']\n",
      "0.0095617453767385 0.07564014927579071 0 ['human', 'temple', 'girl']\n",
      "0.02728106373223292 0.4356461766553355 1 ['grizzly bear', 'brown bear', 'bear', 'mammal', 'terrestrial animal', 'wildlife', 'american black bear', 'snout', 'carnivoran', 'fur']\n"
     ]
    }
   ],
   "source": [
    "import statistics\n",
    "import csv\n",
    "from google.oauth2 import service_account\n",
    "from google.cloud import vision\n",
    "\n",
    "SCRAPED_POSTS_FILE_PATH = 'instagram.csv'\n",
    "MAX_POSTS = 634\n",
    "\n",
    "class InstaPost:\n",
    "    def __init__(self, nlikes, ncomments, url='', caption='', labels=None, engagement=-1):\n",
    "        self.url = url\n",
    "        self.caption = caption\n",
    "        self.nlikes = nlikes\n",
    "        self.ncomments = ncomments\n",
    "        self.labels = labels\n",
    "        self.engagement = engagement\n",
    "\n",
    "\n",
    "def calc_engagement(instaposts):\n",
    "    max_likes = max(instaposts,key=lambda post: post.nlikes).nlikes\n",
    "    max_comments = max(instaposts, key=lambda post: post.ncomments).ncomments\n",
    "    for i in range(0,len(instaposts)):\n",
    "        instaposts[i].nlikes = (instaposts[i].nlikes * 1.0) / max_likes\n",
    "        instaposts[i].ncomments = (instaposts[i].ncomments * 1.0) / max_comments\n",
    "        instaposts[i].engagement = (4 * instaposts[i].nlikes) + (6 * instaposts[i].ncomments)\n",
    "        instaposts[i].engagement_dec = (4 * instaposts[i].nlikes) + (6 * instaposts[i].ncomments)\n",
    "    median_engagement = statistics.median(map(lambda post: post.engagement, instaposts))\n",
    "    for post in instaposts:\n",
    "        post.engagement = 1 if post.engagement >= median_engagement else 0\n",
    "\n",
    "\n",
    "def get_posts_attrs(instaposts):\n",
    "    credentials = service_account.Credentials.from_service_account_file('UGCA-f6b4b2de52f8.json')\n",
    "    client = vision.ImageAnnotatorClient(credentials=credentials)\n",
    "    image = vision.types.Image()\n",
    "    for post in instaposts:\n",
    "        image.source.image_uri = post.url\n",
    "        response = client.label_detection(image=image)\n",
    "        post.labels = [label.description for label in response.label_annotations]\n",
    "\n",
    "\n",
    "def import_scraped_posts(file_path):\n",
    "    post_counter = 0\n",
    "    instaposts = []\n",
    "    with open(file_path,'r', encoding=\"utf8\") as csv_file:\n",
    "        csv_reader = csv.reader(csv_file, quotechar='\"', delimiter=',', quoting=csv.QUOTE_ALL, skipinitialspace=True)\n",
    "        next(csv_reader)\n",
    "        for row in csv_reader:\n",
    "            if post_counter > MAX_POSTS:\n",
    "                break\n",
    "            post = InstaPost(int(row[0]),int(row[1]),row[3],row[2])\n",
    "            instaposts.append(post)\n",
    "            post_counter += 1\n",
    "    return instaposts\n",
    "\n",
    "###Testing only###\n",
    "#post1 = InstaPost(20, 30, 'https://www.gettyimages.com/gi-resources/images/Embed/new/embed2.jpg')\n",
    "#post2 = InstaPost(30, 40, 'https://i1.wp.com/thefreshimages.com/wp-content/uploads/2017/12/lord-shiva-hd-images.jpg?resize=3840%2C2160&ssl=1')\n",
    "#instaposts = [post1,post2]\n",
    "\n",
    "#calc_engagement(instaposts)\n",
    "#get_posts_attrs(instaposts)\n",
    "\n",
    "#print(instaposts[0].engagement)\n",
    "#print(instaposts[1].engagement)\n",
    "#print(instaposts[0].labels)\n",
    "#print(instaposts[1].labels)\n",
    "\n",
    "instaposts = import_scraped_posts(SCRAPED_POSTS_FILE_PATH)\n",
    "calc_engagement(instaposts)\n",
    "get_posts_attrs(instaposts)\n",
    "for post in instaposts:\n",
    "    print(post.ncomments,post.nlikes,post.engagement,post.labels)\n",
    "\n",
    "##################\n",
    "\n"
   ]
  },
  {
   "cell_type": "code",
   "execution_count": 222,
   "metadata": {},
   "outputs": [],
   "source": [
    "all_posts = [(post.ncomments, post.nlikes, post.labels) for post in instaposts]\n",
    "df_posts = pd.DataFrame(all_posts, columns=['ncomments', 'nlikes', 'labels'])\n",
    "df_posts['caption'] = instagram_posts.iloc[:]['caption']\n",
    "df_posts['engagement'] = [post.engagement for post in instaposts]\n",
    "df_posts['engagement_dec']  = [post.engagement_dec for post in instaposts]"
   ]
  },
  {
   "cell_type": "code",
   "execution_count": 223,
   "metadata": {
    "scrolled": true
   },
   "outputs": [
    {
     "data": {
      "text/html": [
       "<div>\n",
       "<style scoped>\n",
       "    .dataframe tbody tr th:only-of-type {\n",
       "        vertical-align: middle;\n",
       "    }\n",
       "\n",
       "    .dataframe tbody tr th {\n",
       "        vertical-align: top;\n",
       "    }\n",
       "\n",
       "    .dataframe thead th {\n",
       "        text-align: right;\n",
       "    }\n",
       "</style>\n",
       "<table border=\"1\" class=\"dataframe\">\n",
       "  <thead>\n",
       "    <tr style=\"text-align: right;\">\n",
       "      <th></th>\n",
       "      <th>ncomments</th>\n",
       "      <th>nlikes</th>\n",
       "      <th>labels</th>\n",
       "      <th>caption</th>\n",
       "      <th>engagement</th>\n",
       "      <th>engagement_dec</th>\n",
       "    </tr>\n",
       "  </thead>\n",
       "  <tbody>\n",
       "    <tr>\n",
       "      <th>0</th>\n",
       "      <td>0.020126</td>\n",
       "      <td>0.256822</td>\n",
       "      <td>[marine mammal, fauna, water, mammal, marine biology, underwater, manatee, organism, wildlife, dugong]</td>\n",
       "      <td>Photo By @BrianSkerry\\nA West Indian Manatee calf nurses from its mom as they settle down on the sandy sea floor in the waters off the coast of Belize, an important country for these endangered animals. Manatees here live in mangroves and often sleep there overnight and feed on nearby sea grass beds during the day. Unlike Florida manatees, these animals are not nearly as acclimated to humans and are shyer. On this morning however, this very relaxed mom and calf allowed me into their world.\\nFor more images and stories about ocean wildlife follow @BrianSkerry\\n#manatees  #belize  #mesoamericanreef  #endangeredspecies</td>\n",
       "      <td>1</td>\n",
       "      <td>1.148048</td>\n",
       "    </tr>\n",
       "  </tbody>\n",
       "</table>\n",
       "</div>"
      ],
      "text/plain": [
       "   ncomments    nlikes  \\\n",
       "0   0.020126  0.256822   \n",
       "\n",
       "                                                                                                   labels  \\\n",
       "0  [marine mammal, fauna, water, mammal, marine biology, underwater, manatee, organism, wildlife, dugong]   \n",
       "\n",
       "                                                                                                                                                                                                                                                                                                                                                                                                                                                                                                                                                                                                                                           caption  \\\n",
       "0  Photo By @BrianSkerry\\nA West Indian Manatee calf nurses from its mom as they settle down on the sandy sea floor in the waters off the coast of Belize, an important country for these endangered animals. Manatees here live in mangroves and often sleep there overnight and feed on nearby sea grass beds during the day. Unlike Florida manatees, these animals are not nearly as acclimated to humans and are shyer. On this morning however, this very relaxed mom and calf allowed me into their world.\\nFor more images and stories about ocean wildlife follow @BrianSkerry\\n#manatees  #belize  #mesoamericanreef  #endangeredspecies   \n",
       "\n",
       "   engagement  engagement_dec  \n",
       "0           1        1.148048  "
      ]
     },
     "execution_count": 223,
     "metadata": {},
     "output_type": "execute_result"
    }
   ],
   "source": [
    "df_posts[:1]"
   ]
  },
  {
   "cell_type": "code",
   "execution_count": 224,
   "metadata": {},
   "outputs": [],
   "source": [
    "df_posts.to_csv('all_data.csv')"
   ]
  },
  {
   "cell_type": "markdown",
   "metadata": {},
   "source": [
    "## 03. Logistic Regression using image labels and engagement"
   ]
  },
  {
   "cell_type": "markdown",
   "metadata": {},
   "source": [
    "Having collected and preprocessed my data, I decided to run a logistic regression model to make predictions and identify the key features of a successful image post. But before I could do that, I first created a list of the features, which in this case were the unique labels from all the posts. "
   ]
  },
  {
   "cell_type": "code",
   "execution_count": 225,
   "metadata": {},
   "outputs": [],
   "source": [
    "all_data = pd.read_csv('all_data.csv')"
   ]
  },
  {
   "cell_type": "code",
   "execution_count": 184,
   "metadata": {},
   "outputs": [
    {
     "name": "stdout",
     "output_type": "stream",
     "text": [
      "The total number of features is: 913\n"
     ]
    }
   ],
   "source": [
    "# Getting distinct labels to convert it into features \n",
    "import ast\n",
    "\n",
    "labels_list=[]\n",
    "\n",
    "for post_labels in all_data.iloc[:]['labels']:\n",
    "     labels_list += ast.literal_eval(post_labels)\n",
    "label_set=set(labels_list)\n",
    "label_set=sorted(list(label_set))\n",
    "\n",
    "print('The total number of features is: '+ str(len(label_set)))"
   ]
  },
  {
   "cell_type": "markdown",
   "metadata": {},
   "source": [
    "Having set the list of features, we created a dataframe indicating the features that appear in every post along with the engagement related to the post."
   ]
  },
  {
   "cell_type": "code",
   "execution_count": 185,
   "metadata": {},
   "outputs": [],
   "source": [
    "import pandas as pd\n",
    "import numpy as np\n",
    "\n",
    "# creating an empty dataframe\n",
    "labels = [ast.literal_eval(post_labels) for post_labels in all_data.iloc[:]['labels']]\n",
    "\n",
    "colmns = label_set\n",
    "df = pd.DataFrame(0.0, index = np.arange(len(labels)), columns = colmns)\n",
    "df['Engagement'] = all_data.iloc[:]['engagement']"
   ]
  },
  {
   "cell_type": "code",
   "execution_count": 186,
   "metadata": {},
   "outputs": [],
   "source": [
    "import math\n",
    "from textblob import TextBlob as tb\n",
    "\n",
    "def tf(word, blob):\n",
    "    return blob.words.count(word) / len(blob.words)\n",
    "\n",
    "def n_containing(word, bloblist):\n",
    "    return sum(1 for blob in bloblist if word in blob.words)\n",
    "\n",
    "def idf(word, bloblist):\n",
    "    return math.log(len(bloblist) / (1 + n_containing(word, bloblist)))\n",
    "\n",
    "def tfidf(word, blob, bloblist):\n",
    "    return tf(word, blob) * idf(word, bloblist)"
   ]
  },
  {
   "cell_type": "code",
   "execution_count": 187,
   "metadata": {},
   "outputs": [],
   "source": [
    "# make label_sent which is a list that contains all the labels concatenated to make a sentence\n",
    "label_sent = []\n",
    "\n",
    "for i in range(len(labels)):\n",
    "    label_sent.append(\" \".join(labels[i]))"
   ]
  },
  {
   "cell_type": "code",
   "execution_count": 188,
   "metadata": {},
   "outputs": [],
   "source": [
    "# convert the post list to textblob format for passing into tf-idf functions\n",
    "labels_tb = []\n",
    "\n",
    "for labels in label_sent:\n",
    "    labels_tb.append(tb(labels))"
   ]
  },
  {
   "cell_type": "code",
   "execution_count": 189,
   "metadata": {},
   "outputs": [],
   "source": [
    "bloblist = labels_tb\n",
    "\n",
    "tfidf_list = []\n",
    "\n",
    "# list containing all the labels with tfidf score\n",
    "\n",
    "for i, blob in enumerate(bloblist):\n",
    "    scores = {word: tfidf(word, blob, bloblist) for word in blob.words}\n",
    "    tfidf_list.append(scores)\n"
   ]
  },
  {
   "cell_type": "code",
   "execution_count": 190,
   "metadata": {},
   "outputs": [],
   "source": [
    "#Assigning value of feature according to the label set of each post\n",
    "\n",
    "data_ind = 0\n",
    "for index, row in df.iterrows():\n",
    "    for column in df:\n",
    "        if column in tfidf_list[data_ind]:\n",
    "#             print(index,column,tfidf_list[data_ind][column])\n",
    "            \n",
    "            df.at[index,column] = tfidf_list[data_ind][column]\n",
    "    data_ind=data_ind+1"
   ]
  },
  {
   "cell_type": "code",
   "execution_count": 191,
   "metadata": {},
   "outputs": [],
   "source": [
    "columns=['Post']+label_set\n",
    "#Divide data set into Features and Outcome\n",
    "X=df[label_set]\n",
    "y = df['Engagement']"
   ]
  },
  {
   "cell_type": "code",
   "execution_count": 192,
   "metadata": {},
   "outputs": [
    {
     "data": {
      "text/plain": [
       "LogisticRegression(C=2, class_weight=None, dual=False, fit_intercept=True,\n",
       "          intercept_scaling=1, max_iter=100, multi_class='ovr', n_jobs=1,\n",
       "          penalty='l2', random_state=42, solver='liblinear', tol=0.0001,\n",
       "          verbose=0, warm_start=False)"
      ]
     },
     "execution_count": 192,
     "metadata": {},
     "output_type": "execute_result"
    }
   ],
   "source": [
    "import matplotlib\n",
    "import matplotlib.pyplot as plt\n",
    "from sklearn.linear_model import LogisticRegression\n",
    "from sklearn.metrics import accuracy_score\n",
    "from sklearn.model_selection import train_test_split\n",
    "from sklearn.metrics import accuracy_score, confusion_matrix\n",
    "\n",
    "#Divide into test and train data \n",
    "X_train, X_test, y_train, y_test = train_test_split(\n",
    "    X, y, test_size=0.3, random_state=0)\n",
    "\n",
    "#Logistic Regression\n",
    "lr = LogisticRegression(C=2, random_state=42) \n",
    "lr.fit(X_train, y_train)"
   ]
  },
  {
   "cell_type": "code",
   "execution_count": 193,
   "metadata": {},
   "outputs": [
    {
     "name": "stdout",
     "output_type": "stream",
     "text": [
      "Accuracy: 0.74\n"
     ]
    }
   ],
   "source": [
    "#Predicting test outcome\n",
    "y_pred = lr.predict(X_test)\n",
    "\n",
    "#Calculate Accuracy\n",
    "print('Accuracy: %.2f' % accuracy_score(y_test,y_pred))\n",
    "\n",
    "#####Extra part to calculate probability of prediction\n",
    "# y_pred = lr.predict_proba(X_test)\n",
    "# from sklearn.metrics import roc_curve, auc, roc_auc_score\n",
    "# false_positive_rate, true_positive_rate, thresholds = roc_curve(y_train, lr.predict(X_train))\n",
    "# print (auc(false_positive_rate, true_positive_rate))\n",
    "# print (roc_auc_score(y_train, lr.predict(X_train)))"
   ]
  },
  {
   "cell_type": "code",
   "execution_count": 194,
   "metadata": {},
   "outputs": [
    {
     "data": {
      "text/plain": [
       "array([[64, 32],\n",
       "       [17, 78]], dtype=int64)"
      ]
     },
     "execution_count": 194,
     "metadata": {},
     "output_type": "execute_result"
    }
   ],
   "source": [
    "#Confusion Matrix\n",
    "cnf_matrix = confusion_matrix(y_test, y_pred)\n",
    "cnf_matrix"
   ]
  },
  {
   "cell_type": "markdown",
   "metadata": {},
   "source": [
    "The small accuracy of the model was mostly attributed to the false positive values (based on the confusion matrix), while I saw that it improved drastically with the introduction of more data. Indicatively, with the use of 450 posts was only getting an accuracy slightly above 50%, while the above was a result of using 634."
   ]
  },
  {
   "cell_type": "markdown",
   "metadata": {},
   "source": [
    "## 04. Logistic Regression using captions and engagement"
   ]
  },
  {
   "cell_type": "markdown",
   "metadata": {},
   "source": [
    "Not being satisfied with my results, my second attempt included the captions instead of the Google vision API image labels. In order to complete the regression this time, I first ran through the captions and made the relevant cleaning (removing stop words) and replacements in order to optimize my results."
   ]
  },
  {
   "cell_type": "code",
   "execution_count": 195,
   "metadata": {},
   "outputs": [
    {
     "name": "stdout",
     "output_type": "stream",
     "text": [
      "[nltk_data] Downloading package stopwords to\n",
      "[nltk_data]     C:\\Users\\lovek\\AppData\\Roaming\\nltk_data...\n",
      "[nltk_data]   Package stopwords is already up-to-date!\n"
     ]
    },
    {
     "data": {
      "text/plain": [
       "True"
      ]
     },
     "execution_count": 195,
     "metadata": {},
     "output_type": "execute_result"
    }
   ],
   "source": [
    "from nltk import pos_tag\n",
    "from nltk.tokenize import word_tokenize\n",
    "from nltk.corpus import stopwords\n",
    "from collections import Counter\n",
    "import nltk\n",
    "nltk.download('stopwords')"
   ]
  },
  {
   "cell_type": "code",
   "execution_count": 196,
   "metadata": {},
   "outputs": [],
   "source": [
    "def count_words(dataframe,column):\n",
    "    captions = []\n",
    "    for i in range(dataframe.shape[0]):\n",
    "        captions.append(pd.DataFrame(dataframe.iloc[:][column]).loc[i][0].replace('\\n', '').lower())\n",
    "    wordcount = Counter(pos_tag(word_tokenize(''.join(captions))))\n",
    "    word_list = sorted(list(wordcount.items()), key = lambda w: -w[1])\n",
    "    stoplist = nltk.corpus.stopwords.words('english')\n",
    "    word_list = [word_list[i] for i in range(len(word_list)) \n",
    "                 if len(word_list[i][0][0]) > 2 and word_list[i][0][0] not in stoplist \n",
    "                 and word_list[i][0][1] in ['NN', 'NNP', 'NNS', 'JJ']]\n",
    "    return word_list"
   ]
  },
  {
   "cell_type": "code",
   "execution_count": 197,
   "metadata": {
    "scrolled": true
   },
   "outputs": [
    {
     "data": {
      "text/plain": [
       "9453"
      ]
     },
     "execution_count": 197,
     "metadata": {},
     "output_type": "execute_result"
    }
   ],
   "source": [
    "word_list = count_words(instagram_posts, 'caption')\n",
    "len(word_list)"
   ]
  },
  {
   "cell_type": "code",
   "execution_count": 198,
   "metadata": {},
   "outputs": [],
   "source": [
    "animal = ['species', 'wildlife', 'animals', 'elephants', 'lions', 'bears', 'cats', 'bird', 'rhino', 'tiger',\n",
    "          'birds', 'lion', 'ivory', 'bear', 'pride', 'habitat', 'fish', 'dogs', 'predators', 'sharks', 'whales',\n",
    "          'jaguar', 'horses', 'snake', 'animal', 'dragon', 'lewa_wildlife', 'elephant', 'seals', 'dog', 'cattle',\n",
    "          'whale', 'penguins', 'bull', 'rhinos', 'horse', 'flamingo', 'shark', 'creatures', 'jaguars', 'cubs',\n",
    "          'tortoises', 'rhinos', 'cat', 'tigers', 'insects', 'goat', 'wolf', 'deer', 'mammals', 'leopard', 'panther']\n",
    "\n",
    "human = ['people', 'work', 'family', 'women', 'children', 'refugee', 'face', 'feet', 'government', 'child',\n",
    "         'mother', 'camp', 'men', 'girls', 'rohingya', 'humans', 'kids', 'refugees', 'members', 'parents',\n",
    "         'son', 'baby', 'tourists', 'rangers', 'friends', 'father', 'everyone', 'fathers', 'everydayrefugees', \n",
    "         'families', 'woman', 'wife', 'residents', 'brother', 'poachers', 'hunters', 'girl', 'farmers', 'migrants',\n",
    "         'americans', 'president', 'survivor', 'kid', 'chancellor', 'indians', 'researchers', 'worker', 'adults', \n",
    "         'visitors']\n",
    "\n",
    "photographer = ['timlaman', 'stephenwilkes', 'stevewinterphoto', 'michael', 'joelsartore', \n",
    "                'gabrielegalimbertiphoto', 'williamalbertallard', 'cristinamittermeier', 'yamashita',\n",
    "                'renaeffendiphoto', 'jimmy_chin', 'muhammedmuheisenphoto', 'paulnicklen', 'irablockphoto', \n",
    "                'mmuheisen', 'george', 'paleyphoto', 'muheisen', 'carltonward', 'steinmetz', 'yamashitaphoto',\n",
    "                'hammond_robin', 'beverlyjoubert', 'brianskerry', 'photographer', 'argonautphoto', 'renan_ozturk',\n",
    "                'christineeckstrom', 'salvarezphoto', 'florianschulzvisuals', 'chamiltonjames', 'chien_chi_chang',\n",
    "                'katieorlinsky', 'davidalanharvey', 'ljohnphoto', 'pedromcbride']\n",
    "\n",
    "place = ['myanmar', 'china', 'india', 'bangladesh', 'peru', 'borneo', 'scotland', 'papua', 'yemen', 'america',\n",
    "         'california', 'matera', 'afghanistan', 'africa', 'capital', 'mexico', 'antarctica', 'canada', 'brazil',\n",
    "         'alaska', 'indonesia', 'madagascar', 'nation', 'greenland', 'netherlands', 'botswana', 'mongolia', \n",
    "         'ghana', 'france', 'north', 'south', 'east', 'west', 'greece', 'place', 'country', 'region', 'state', \n",
    "         'kenya', 'japan', 'florida']\n",
    "\n",
    "advertisment = ['africanparksnetwork', 'samsungmobileusa', 'withgalaxy']\n",
    "\n",
    "nature = ['water', 'river', 'sea', 'ice', 'place', 'image', 'area', 'island', 'land', 'nature', 'landscape',\n",
    "          'coast', 'mountain', 'mountains', 'ocean', 'tree', 'islands', 'valley', 'volcano', 'light',\n",
    "          'rivers', 'cannabis', 'rock', 'waters', 'forest', 'dunes', 'view', 'air', 'desert', 'sun', 'sand',\n",
    "          'environment', 'everglades', 'trees', 'garden', 'plants', 'plant', 'ecosystem', 'lake', 'zakouma',\n",
    "          'field', 'sky', 'plains', 'rain', 'ecosystems', 'lakes', 'flowers', 'bay', 'creek', 'forests', \n",
    "          'glacier', 'socotra', 'flames', 'storm', 'fog', 'tide', 'oceans', 'caves', 'hurricane', 'natureal',\n",
    "          'natureern', 'naturen', 'natures']\n",
    "\n",
    "civilization = ['city', 'park', 'country', 'war', 'village', 'communities', 'community', 'trade', \n",
    "                'border', 'crisis', 'school', 'culture', 'boat', 'house', 'camera', 'tradition', 'town',\n",
    "                'market', 'toys', 'education', 'cities', 'york', 'poaching', 'states', 'medicine', 'labor', \n",
    "                'research', 'prayer', 'organizations', 'conflict', 'fishing', 'tourism', 'prey', 'church', 'farm',\n",
    "                'hotel', 'toy', 'poverty', 'cultures', 'music', 'art', 'money', 'science', 'business', 'industry',\n",
    "                'schools', 'motel', 'bridge', 'law', 'street', 'room', 'castle', 'pcivilization', 'civilizations']\n",
    "\n",
    "time = ['years', 'time', 'day', 'night', 'days', 'today', 'year', 'conservation', 'week', 'moment', 'morning',\n",
    "        'summer', 'months', 'future', 'hours', 'times', 'august', 'winter', 'age', 'decades', 'sunrise', 'century',\n",
    "        'monument', 'weeks', 'month', 'decade', 'moments', 'season', 'september', 'centuries', 'minutes', 'sunset',\n",
    "        'weekend', 'spring']\n",
    "\n",
    "size = ['big', 'small', 'tiny', 'large', 'long', 'high', 'massive', 'deep', 'major', 'vast', 'short', 'huge',\n",
    "        'narrow', 'thin', 'enormous', 'tall', 'heavy', 'distant', 'immense', 'miles', 'range', 'meters', 'numbers',\n",
    "        'hundreds', 'temperatures', 'half', 'size', 'distance', 'length', 'millions', 'percent']\n",
    "\n",
    "different = ['new', 'great', 'old', 'different', 'important', 'traditional', 'ancient', 'unique', 'magnificent',\n",
    "             'perfect', 'popular', 'dangerous', 'famous', 'dramatic', 'powerful', 'secret', 'historic', 'busy',\n",
    "             'private', 'successful', 'endangered', 'valuable', 'original', 'sensitive', 'classic', 'artificial',\n",
    "             'vulnerable', 'vital', 'spiritual', 'distinct', 'devastating', 'sacred', 'untouchable']\n",
    "\n",
    "nice = ['beautiful', 'incredible', 'amazing', 'magical', 'sweet', 'wonderful', 'simple', 'impressive', 'pretty',\n",
    "        'stunning', 'excellent']"
   ]
  },
  {
   "cell_type": "code",
   "execution_count": 199,
   "metadata": {},
   "outputs": [],
   "source": [
    "def less_caption_words(dataframe,column):\n",
    "#   creating list of captions with lower cases \n",
    "    captions = []\n",
    "    for i in range(dataframe.shape[0]):\n",
    "        captions.append(pd.DataFrame(dataframe.iloc[:][column]).loc[i][0].replace('\\n', '').lower())\n",
    "        \n",
    "#   introducing replacements \n",
    "    word_lists = [animal, human, photographer, place, advertisment, nature, civilization, time, size, \n",
    "                  different, nice]\n",
    "    replacement_words = ['animal', 'human', 'photographer', 'place', 'advertisment', 'nature', 'civilization', \n",
    "                         'time', 'size', 'different', 'nice']\n",
    "    \n",
    "#   replacing words and creating new captions  \n",
    "    simple_captions = []\n",
    "    for c in captions:\n",
    "        for i in range(len(replacement_words)):\n",
    "            for word in word_lists[i]:\n",
    "                c = c.replace(word, replacement_words[i])\n",
    "        simple_captions.append(c)\n",
    "    token_captions = [word_tokenize(c) for c in simple_captions]    \n",
    "#   counting words using the simplified captions with the replaced words  \n",
    "    wordcount = Counter(pos_tag(word_tokenize(''.join(simple_captions))))\n",
    "    word_list = sorted(list(wordcount.items()), key = lambda w: -w[1])\n",
    "    stoplist = nltk.corpus.stopwords.words('english')\n",
    "    word_list = [word_list[i] for i in range(len(word_list)) \n",
    "                 if len(word_list[i][0][0]) > 2 and word_list[i][0][0] not in stoplist \n",
    "                 and word_list[i][0][1] in ['NN', 'NNP', 'NNS', 'JJ']]\n",
    "    return [simple_captions, token_captions, word_list]"
   ]
  },
  {
   "cell_type": "code",
   "execution_count": 200,
   "metadata": {},
   "outputs": [],
   "source": [
    "[simple_captions, token_captions, new_word_list] = less_caption_words(instagram_posts, 'caption')"
   ]
  },
  {
   "cell_type": "code",
   "execution_count": 201,
   "metadata": {},
   "outputs": [],
   "source": [
    "# creating an empty dataframe\n",
    "wrds = [new_word_list[i][0][0] for i in range(len(new_word_list))]\n",
    "engmnt = list(all_data['engagement'])\n",
    "cllmns = wrds+['Engagement']\n",
    "df_caption = pd.DataFrame(0.0, index = np.arange(len(token_captions)), columns = cllmns)\n",
    "df_caption['Engagement'] = ([engmnt[i] for i in range(len(token_captions))])"
   ]
  },
  {
   "cell_type": "code",
   "execution_count": 202,
   "metadata": {},
   "outputs": [
    {
     "data": {
      "text/plain": [
       "(634, 8894)"
      ]
     },
     "execution_count": 202,
     "metadata": {},
     "output_type": "execute_result"
    }
   ],
   "source": [
    "df_caption.shape"
   ]
  },
  {
   "cell_type": "markdown",
   "metadata": {},
   "source": [
    "As  seen through the extensive word replacements, I achieved the reduction of the captions' count by 500 words, reducing the complexity of the model and the features sacrificing only part of its accuracy of information."
   ]
  },
  {
   "cell_type": "code",
   "execution_count": 203,
   "metadata": {},
   "outputs": [],
   "source": [
    "# convert the post list to textblob format for passing into tf-idf functions\n",
    "captions_tb = []\n",
    "\n",
    "for caption in list(simple_captions):\n",
    "    captions_tb.append(tb(caption))"
   ]
  },
  {
   "cell_type": "code",
   "execution_count": 204,
   "metadata": {},
   "outputs": [],
   "source": [
    "# import time\n",
    "# t0 = time.time()\n",
    "\n",
    "caption_tfidf_list = []\n",
    "\n",
    "# list containing all the captions with tfidf score\n",
    "\n",
    "for i, blob in enumerate(captions_tb):\n",
    "    scores = {word: tfidf(word, blob, captions_tb) for word in blob.words}\n",
    "    caption_tfidf_list.append(scores)\n",
    "\n",
    "# t1 = time.time()\n",
    "# print(t1-t0)"
   ]
  },
  {
   "cell_type": "code",
   "execution_count": 205,
   "metadata": {},
   "outputs": [],
   "source": [
    "#Assigning value of feature according to the caption set of each post\n",
    "\n",
    "caption_data_ind = 0\n",
    "for index, row in df_caption.iterrows():\n",
    "    for column in df_caption:\n",
    "        if column in caption_tfidf_list[caption_data_ind]:\n",
    "            df_caption.loc[index, column] = caption_tfidf_list[caption_data_ind][column]\n",
    "    caption_data_ind=caption_data_ind+1"
   ]
  },
  {
   "cell_type": "code",
   "execution_count": 206,
   "metadata": {},
   "outputs": [],
   "source": [
    "#Divide data set into Features and Outcome\n",
    "XX = df_caption[wrds]\n",
    "yy = df_caption['Engagement']"
   ]
  },
  {
   "cell_type": "code",
   "execution_count": 207,
   "metadata": {},
   "outputs": [
    {
     "data": {
      "text/plain": [
       "LogisticRegression(C=3, class_weight=None, dual=False, fit_intercept=True,\n",
       "          intercept_scaling=1, max_iter=100, multi_class='ovr', n_jobs=1,\n",
       "          penalty='l2', random_state=0, solver='liblinear', tol=0.0001,\n",
       "          verbose=0, warm_start=False)"
      ]
     },
     "execution_count": 207,
     "metadata": {},
     "output_type": "execute_result"
    }
   ],
   "source": [
    "import matplotlib\n",
    "import matplotlib.pyplot as plt\n",
    "from sklearn.linear_model import LogisticRegression\n",
    "from sklearn.metrics import accuracy_score\n",
    "from sklearn.model_selection import train_test_split\n",
    "from sklearn.metrics import accuracy_score, confusion_matrix\n",
    "\n",
    "#Divide into test and train data \n",
    "XX_train, XX_test, yy_train, yy_test = train_test_split(XX, yy, test_size=0.3, random_state=0)\n",
    "\n",
    "#Logistic Regression\n",
    "caption_lr = LogisticRegression(C=3, random_state=0) \n",
    "caption_lr.fit(XX_train, yy_train)"
   ]
  },
  {
   "cell_type": "code",
   "execution_count": 208,
   "metadata": {},
   "outputs": [
    {
     "name": "stdout",
     "output_type": "stream",
     "text": [
      "Accuracy: 0.73\n"
     ]
    }
   ],
   "source": [
    "#Predicting test outcome\n",
    "yy_pred = caption_lr.predict(XX_test)\n",
    "\n",
    "#Calculate Accuracy\n",
    "print('Accuracy: %.2f' % accuracy_score(yy_test,yy_pred))"
   ]
  },
  {
   "cell_type": "markdown",
   "metadata": {},
   "source": [
    "Based on the above, it appeared that the overall accuracy did not improve over the original model. Interstingly enough, it appears that the information collected from the image recognition labeling was of the same value as the thorough description of the image by the photographer."
   ]
  },
  {
   "cell_type": "markdown",
   "metadata": {},
   "source": [
    "## Task B: Logistic Regression using (captions, labels) and engagement"
   ]
  },
  {
   "cell_type": "markdown",
   "metadata": {},
   "source": [
    "In this step, I combined all the information together to a third model making engagement predictions using both image labels and captions. "
   ]
  },
  {
   "cell_type": "code",
   "execution_count": 209,
   "metadata": {},
   "outputs": [
    {
     "data": {
      "text/plain": [
       "(634, 9807)"
      ]
     },
     "execution_count": 209,
     "metadata": {},
     "output_type": "execute_result"
    }
   ],
   "source": [
    "# tfidf values of labels and tfidf values of captions\n",
    "all_tfidf_table = pd.concat([df.loc[:, :'zoo'], df_caption], axis=1)\n",
    "all_tfidf_table.shape"
   ]
  },
  {
   "cell_type": "code",
   "execution_count": 210,
   "metadata": {},
   "outputs": [],
   "source": [
    "#Divide data set into Features and Outcome\n",
    "X_all = all_tfidf_table.loc[:, :'benefits']\n",
    "y_all = all_tfidf_table['Engagement']"
   ]
  },
  {
   "cell_type": "code",
   "execution_count": 211,
   "metadata": {},
   "outputs": [
    {
     "data": {
      "text/plain": [
       "LogisticRegression(C=2, class_weight=None, dual=False, fit_intercept=True,\n",
       "          intercept_scaling=1, max_iter=100, multi_class='ovr', n_jobs=1,\n",
       "          penalty='l2', random_state=42, solver='liblinear', tol=0.0001,\n",
       "          verbose=0, warm_start=False)"
      ]
     },
     "execution_count": 211,
     "metadata": {},
     "output_type": "execute_result"
    }
   ],
   "source": [
    "#Divide into test and train data \n",
    "X_all_train, X_all_test, y_all_train, y_all_test = train_test_split(X_all, y_all, test_size=0.3, random_state=0)\n",
    "\n",
    "#Logistic Regression\n",
    "all_lr = LogisticRegression(C=2, random_state=42) \n",
    "all_lr.fit(X_all_train, y_all_train)"
   ]
  },
  {
   "cell_type": "code",
   "execution_count": 212,
   "metadata": {},
   "outputs": [
    {
     "name": "stdout",
     "output_type": "stream",
     "text": [
      "Accuracy: 0.75\n"
     ]
    }
   ],
   "source": [
    "#Predicting test outcome\n",
    "y_all_pred = all_lr.predict(X_all_test)\n",
    "\n",
    "#Calculate Accuracy\n",
    "print('Accuracy: %.2f' % accuracy_score(y_all_test,y_all_pred))"
   ]
  },
  {
   "cell_type": "markdown",
   "metadata": {},
   "source": [
    "While it appeared to be a slight increase in the overall accuracy on our results, the added complexity of the model is not justified. It seems that the information of the image labels and description are somewhat correlated essentially describing the same thing and carrying the same amount of information. The image caption is describing what the google vision API is sumarising in its labels."
   ]
  },
  {
   "cell_type": "markdown",
   "metadata": {},
   "source": [
    "## 05. Clustering images - LDA on image labels"
   ]
  },
  {
   "cell_type": "markdown",
   "metadata": {},
   "source": [
    "Aiming to identify what makes an image popular and attracts engagement, I used LDA (Latent Dirichlet allocation) on image labels. Running the clustering algorithm multiple times, in order to find the right number of topics that best separated / described my images, I ensured that the topics where clearly distinctive from each other while also their themes were intuitive."
   ]
  },
  {
   "cell_type": "code",
   "execution_count": 232,
   "metadata": {},
   "outputs": [
    {
     "name": "stdout",
     "output_type": "stream",
     "text": [
      "[nltk_data] Downloading package wordnet to\n",
      "[nltk_data]     C:\\Users\\lovek\\AppData\\Roaming\\nltk_data...\n",
      "[nltk_data]   Package wordnet is already up-to-date!\n"
     ]
    },
    {
     "data": {
      "text/plain": [
       "True"
      ]
     },
     "execution_count": 232,
     "metadata": {},
     "output_type": "execute_result"
    }
   ],
   "source": [
    "import gensim\n",
    "from gensim.utils import simple_preprocess\n",
    "from gensim.parsing.preprocessing import STOPWORDS\n",
    "from nltk.stem import WordNetLemmatizer, SnowballStemmer\n",
    "from nltk.stem.porter import *\n",
    "import numpy as np\n",
    "\n",
    "import nltk\n",
    "nltk.download('wordnet')"
   ]
  },
  {
   "cell_type": "code",
   "execution_count": 233,
   "metadata": {},
   "outputs": [],
   "source": [
    "post_labels = [ast.literal_eval(post) for post in all_data.iloc[:]['labels']]\n",
    "\n",
    "dict_labels = {}\n",
    "for i in range(len(post_labels)):\n",
    "    for j in range(len(post_labels[i])):\n",
    "        if post_labels[i][j] in dict_labels:\n",
    "            a = dict_labels[post_labels[i][j]] + 1\n",
    "            dict_labels[post_labels[i][j]] = a\n",
    "        else:\n",
    "            dict_labels[post_labels[i][j]] = 1"
   ]
  },
  {
   "cell_type": "code",
   "execution_count": 3,
   "metadata": {},
   "outputs": [],
   "source": [
    "import lda\n",
    "from sklearn.feature_extraction.text import CountVectorizer"
   ]
  },
  {
   "cell_type": "code",
   "execution_count": 235,
   "metadata": {},
   "outputs": [],
   "source": [
    "stopwords_nltk=set(stopwords.words('english'))"
   ]
  },
  {
   "cell_type": "code",
   "execution_count": 236,
   "metadata": {},
   "outputs": [],
   "source": [
    "words_freq_vec = CountVectorizer(input=post_labels,stop_words=stopwords_nltk,decode_error='ignore')"
   ]
  },
  {
   "cell_type": "code",
   "execution_count": 237,
   "metadata": {},
   "outputs": [],
   "source": [
    "labels_under_pro = words_freq_vec.fit_transform([' '.join(p) for p in post_labels])"
   ]
  },
  {
   "cell_type": "code",
   "execution_count": 238,
   "metadata": {},
   "outputs": [
    {
     "name": "stderr",
     "output_type": "stream",
     "text": [
      "INFO:lda:n_documents: 634\n",
      "INFO:lda:vocab_size: 935\n",
      "INFO:lda:n_words: 6691\n",
      "INFO:lda:n_topics: 4\n",
      "INFO:lda:n_iter: 500\n",
      "C:\\Users\\lovek\\Anaconda3\\lib\\site-packages\\lda\\utils.py:55: FutureWarning: Conversion of the second argument of issubdtype from `int` to `np.signedinteger` is deprecated. In future, it will be treated as `np.int32 == np.dtype(int).type`.\n",
      "  if sparse and not np.issubdtype(doc_word.dtype, int):\n",
      "INFO:lda:<0> log likelihood: -59701\n",
      "INFO:lda:<10> log likelihood: -42999\n",
      "INFO:lda:<20> log likelihood: -41478\n",
      "INFO:lda:<30> log likelihood: -40933\n",
      "INFO:lda:<40> log likelihood: -40750\n",
      "INFO:lda:<50> log likelihood: -40545\n",
      "INFO:lda:<60> log likelihood: -40366\n",
      "INFO:lda:<70> log likelihood: -40233\n",
      "INFO:lda:<80> log likelihood: -40263\n",
      "INFO:lda:<90> log likelihood: -40169\n",
      "INFO:lda:<100> log likelihood: -40192\n",
      "INFO:lda:<110> log likelihood: -40129\n",
      "INFO:lda:<120> log likelihood: -40141\n",
      "INFO:lda:<130> log likelihood: -40126\n",
      "INFO:lda:<140> log likelihood: -40102\n",
      "INFO:lda:<150> log likelihood: -40085\n",
      "INFO:lda:<160> log likelihood: -40067\n",
      "INFO:lda:<170> log likelihood: -39967\n",
      "INFO:lda:<180> log likelihood: -39998\n",
      "INFO:lda:<190> log likelihood: -39919\n",
      "INFO:lda:<200> log likelihood: -39802\n",
      "INFO:lda:<210> log likelihood: -39783\n",
      "INFO:lda:<220> log likelihood: -39737\n",
      "INFO:lda:<230> log likelihood: -39771\n",
      "INFO:lda:<240> log likelihood: -39702\n",
      "INFO:lda:<250> log likelihood: -39770\n",
      "INFO:lda:<260> log likelihood: -39707\n",
      "INFO:lda:<270> log likelihood: -39636\n",
      "INFO:lda:<280> log likelihood: -39684\n",
      "INFO:lda:<290> log likelihood: -39566\n",
      "INFO:lda:<300> log likelihood: -39618\n",
      "INFO:lda:<310> log likelihood: -39610\n",
      "INFO:lda:<320> log likelihood: -39597\n",
      "INFO:lda:<330> log likelihood: -39545\n",
      "INFO:lda:<340> log likelihood: -39603\n",
      "INFO:lda:<350> log likelihood: -39561\n",
      "INFO:lda:<360> log likelihood: -39566\n",
      "INFO:lda:<370> log likelihood: -39551\n",
      "INFO:lda:<380> log likelihood: -39590\n",
      "INFO:lda:<390> log likelihood: -39487\n",
      "INFO:lda:<400> log likelihood: -39519\n",
      "INFO:lda:<410> log likelihood: -39559\n",
      "INFO:lda:<420> log likelihood: -39534\n",
      "INFO:lda:<430> log likelihood: -39526\n",
      "INFO:lda:<440> log likelihood: -39584\n",
      "INFO:lda:<450> log likelihood: -39575\n",
      "INFO:lda:<460> log likelihood: -39623\n",
      "INFO:lda:<470> log likelihood: -39598\n",
      "INFO:lda:<480> log likelihood: -39552\n",
      "INFO:lda:<490> log likelihood: -39612\n",
      "INFO:lda:<499> log likelihood: -39534\n"
     ]
    },
    {
     "data": {
      "text/plain": [
       "<lda.lda.LDA at 0x27187329358>"
      ]
     },
     "execution_count": 238,
     "metadata": {},
     "output_type": "execute_result"
    }
   ],
   "source": [
    "ntopics = 4\n",
    "corpus_arr = np.array(corpus)\n",
    "model = lda.LDA(n_topics=int(ntopics), n_iter=500, random_state=1)\n",
    "model.fit(labels_under_pro)"
   ]
  },
  {
   "cell_type": "code",
   "execution_count": 239,
   "metadata": {},
   "outputs": [],
   "source": [
    "type(labels_under_pro)\n",
    "# dataframe_label = pd.DataFrame(total_features_words)\n",
    "dataframe_label = pd.DataFrame({'post_no': range(len(post_labels)), 'label': post_labels})"
   ]
  },
  {
   "cell_type": "code",
   "execution_count": 240,
   "metadata": {},
   "outputs": [],
   "source": [
    "topic_label = model.topic_word_\n",
    "topic_post=model.doc_topic_\n",
    "topic_post=pd.DataFrame(topic_post)\n",
    "dataframe_label=dataframe_label.join(topic_post)\n",
    "Insta_Posts=all_data.iloc[:,[3, 5, 6]]"
   ]
  },
  {
   "cell_type": "code",
   "execution_count": 241,
   "metadata": {},
   "outputs": [
    {
     "data": {
      "text/html": [
       "<div>\n",
       "<style scoped>\n",
       "    .dataframe tbody tr th:only-of-type {\n",
       "        vertical-align: middle;\n",
       "    }\n",
       "\n",
       "    .dataframe tbody tr th {\n",
       "        vertical-align: top;\n",
       "    }\n",
       "\n",
       "    .dataframe thead th {\n",
       "        text-align: right;\n",
       "    }\n",
       "</style>\n",
       "<table border=\"1\" class=\"dataframe\">\n",
       "  <thead>\n",
       "    <tr style=\"text-align: right;\">\n",
       "      <th></th>\n",
       "      <th>Unnamed: 0</th>\n",
       "      <th>ncomments</th>\n",
       "      <th>nlikes</th>\n",
       "      <th>labels</th>\n",
       "      <th>caption</th>\n",
       "      <th>engagement</th>\n",
       "      <th>engagement_dec</th>\n",
       "    </tr>\n",
       "  </thead>\n",
       "  <tbody>\n",
       "    <tr>\n",
       "      <th>0</th>\n",
       "      <td>0</td>\n",
       "      <td>0.020126</td>\n",
       "      <td>0.256822</td>\n",
       "      <td>['marine mammal', 'fauna', 'water', 'mammal', 'marine biology', 'underwater', 'manatee', 'organism', 'wildlife', 'dugong']</td>\n",
       "      <td>Photo By @BrianSkerry\\r\\nA West Indian Manatee calf nurses from its mom as they settle down on the sandy sea floor in the waters off the coast of Belize, an important country for these endangered animals. Manatees here live in mangroves and often sleep there overnight and feed on nearby sea grass beds during the day. Unlike Florida manatees, these animals are not nearly as acclimated to humans and are shyer. On this morning however, this very relaxed mom and calf allowed me into their world.\\r\\nFor more images and stories about ocean wildlife follow @BrianSkerry\\r\\n#manatees  #belize  #mesoamericanreef  #endangeredspecies</td>\n",
       "      <td>1</td>\n",
       "      <td>1.148048</td>\n",
       "    </tr>\n",
       "  </tbody>\n",
       "</table>\n",
       "</div>"
      ],
      "text/plain": [
       "   Unnamed: 0  ncomments    nlikes  \\\n",
       "0           0   0.020126  0.256822   \n",
       "\n",
       "                                                                                                                       labels  \\\n",
       "0  ['marine mammal', 'fauna', 'water', 'mammal', 'marine biology', 'underwater', 'manatee', 'organism', 'wildlife', 'dugong']   \n",
       "\n",
       "                                                                                                                                                                                                                                                                                                                                                                                                                                                                                                                                                                                                                                                 caption  \\\n",
       "0  Photo By @BrianSkerry\\r\\nA West Indian Manatee calf nurses from its mom as they settle down on the sandy sea floor in the waters off the coast of Belize, an important country for these endangered animals. Manatees here live in mangroves and often sleep there overnight and feed on nearby sea grass beds during the day. Unlike Florida manatees, these animals are not nearly as acclimated to humans and are shyer. On this morning however, this very relaxed mom and calf allowed me into their world.\\r\\nFor more images and stories about ocean wildlife follow @BrianSkerry\\r\\n#manatees  #belize  #mesoamericanreef  #endangeredspecies   \n",
       "\n",
       "   engagement  engagement_dec  \n",
       "0           1        1.148048  "
      ]
     },
     "execution_count": 241,
     "metadata": {},
     "output_type": "execute_result"
    }
   ],
   "source": [
    "all_data[:1]"
   ]
  },
  {
   "cell_type": "code",
   "execution_count": 242,
   "metadata": {},
   "outputs": [
    {
     "name": "stderr",
     "output_type": "stream",
     "text": [
      "C:\\Users\\lovek\\Anaconda3\\lib\\site-packages\\ipykernel_launcher.py:3: SettingWithCopyWarning: \n",
      "A value is trying to be set on a copy of a slice from a DataFrame.\n",
      "Try using .loc[row_indexer,col_indexer] = value instead\n",
      "\n",
      "See the caveats in the documentation: http://pandas.pydata.org/pandas-docs/stable/indexing.html#indexing-view-versus-copy\n",
      "  This is separate from the ipykernel package so we can avoid doing imports until\n"
     ]
    }
   ],
   "source": [
    "for i in range(int(ntopics)):\n",
    "    topic=\"topic_\"+str(i)\n",
    "    Insta_Posts[topic]=dataframe_label.groupby(['post_no'])[i].mean()"
   ]
  },
  {
   "cell_type": "code",
   "execution_count": 243,
   "metadata": {},
   "outputs": [
    {
     "name": "stdout",
     "output_type": "stream",
     "text": [
      "Topics label distribution written in file topic_label_dist.xlsx \n",
      "Restaurant topic distribution written in file Insta_posts_topic_dist.xlsx \n"
     ]
    }
   ],
   "source": [
    "Insta_Posts=Insta_Posts.reset_index()\n",
    "topics=pd.DataFrame(topic_label)\n",
    "topics.columns=words_freq_vec.get_feature_names()\n",
    "topics1=topics.transpose()\n",
    "print (\"Topics label distribution written in file topic_label_dist.xlsx \")\n",
    "topics1.to_csv(\"topic_label_dist.csv\")\n",
    "Insta_Posts.to_csv(\"Insta_posts_topic_dist.csv\",index=False)\n",
    "print (\"Restaurant topic distribution written in file Insta_posts_topic_dist.xlsx \")"
   ]
  },
  {
   "cell_type": "markdown",
   "metadata": {},
   "source": [
    "# Analysing influential topics"
   ]
  },
  {
   "cell_type": "markdown",
   "metadata": {},
   "source": [
    "Based on my analysis and the labels related to each category, I identified that sorting my labels into 4 topics was the most effective way of splitting them, as the labels were split to the below self explanatory topics:\n",
    "1. Topic I: plants \n",
    "2. Topic II: human factor\n",
    "3. Topic III: Animal\n",
    "4. Topic IV: Scenery\n",
    "\n",
    "NOTE: The actual words per each topic are listed in the \"topic_word_dist.xlsx\" file."
   ]
  },
  {
   "cell_type": "code",
   "execution_count": 244,
   "metadata": {},
   "outputs": [
    {
     "name": "stdout",
     "output_type": "stream",
     "text": [
      "Top quartile topic avgs:  1.0242003584503878 0.06629849408088037 0.0511766861781931 0.023865919085372403\n",
      "\n",
      "\n",
      "Bottom quartile topic avgs:  1.1922729380081662 0.2750263838998251 0.19092801061018513 0.5266541625872856\n"
     ]
    }
   ],
   "source": [
    "import csv\n",
    "posts = []\n",
    "with open('Insta_posts_topic_dist.csv','r', encoding=\"utf8\") as csv_file:\n",
    "    csv_reader = csv.reader(csv_file, quotechar='\"', delimiter=',', quoting=csv.QUOTE_ALL, skipinitialspace=True)\n",
    "    next(csv_reader)\n",
    "    for row in csv_reader:\n",
    "        posts.append((float(row[3]),float(row[4]),float(row[5]),float(row[6]),float(row[7])))\n",
    "\n",
    "posts.sort(key=lambda x: x[4], reverse=True)\n",
    "quartile_amount = int(len(posts)/4)\n",
    "\n",
    "top_quartile_topic1_avg = sum(map(lambda x: x[0], posts[:quartile_amount]))/quartile_amount\n",
    "top_quartile_topic2_avg = sum(map(lambda x: x[1], posts[:quartile_amount]))/quartile_amount\n",
    "top_quartile_topic3_avg = sum(map(lambda x: x[2], posts[:quartile_amount]))/quartile_amount\n",
    "top_quartile_topic4_avg = sum(map(lambda x: x[3], posts[:quartile_amount]))/quartile_amount\n",
    "\n",
    "bottom_quartile_topic1_avg = sum(map(lambda x: x[0], posts[-quartile_amount:]))/quartile_amount\n",
    "bottom_quartile_topic2_avg = sum(map(lambda x: x[1], posts[-quartile_amount:]))/quartile_amount\n",
    "bottom_quartile_topic3_avg = sum(map(lambda x: x[2], posts[-quartile_amount:]))/quartile_amount\n",
    "bottom_quartile_topic4_avg = sum(map(lambda x: x[3], posts[-quartile_amount:]))/quartile_amount\n",
    "\n",
    "print('Top quartile topic avgs: ',top_quartile_topic1_avg,top_quartile_topic2_avg,top_quartile_topic3_avg,top_quartile_topic4_avg)\n",
    "print('\\n')\n",
    "print('Bottom quartile topic avgs: ',bottom_quartile_topic1_avg,bottom_quartile_topic2_avg,bottom_quartile_topic3_avg,bottom_quartile_topic4_avg)"
   ]
  },
  {
   "cell_type": "markdown",
   "metadata": {},
   "source": [
    "Based on my analysis of the collected data, it appeared that the first topic (related to nature and plants) was prominent in all the images irrespective of their engagement, which was expected given that the images were collected from national geographic's page and thus it did not appear to be the differentiating factor."
   ]
  },
  {
   "cell_type": "markdown",
   "metadata": {},
   "source": [
    "On the other hand, the rest of the topics (human factor, animal and scenery) played a crusial role in separating images from mediocre to great and it appeared that more unsuccessful images had twice the amount of \"human factor\", more than 5 times \"animal\" related themes, and twice the \"scenery\" aspect. "
   ]
  },
  {
   "cell_type": "markdown",
   "metadata": {},
   "source": [
    "## 06. Advice for National Geographic "
   ]
  },
  {
   "cell_type": "markdown",
   "metadata": {},
   "source": [
    "Based on my analysis, I would advice the people responsible to keep focusing on natural themes, but rather adding more context to their images enhancing the human factor and somewhat avoiding the plain classic beautiful scenery themes."
   ]
  },
  {
   "cell_type": "code",
   "execution_count": null,
   "metadata": {},
   "outputs": [],
   "source": []
  }
 ],
 "metadata": {
  "kernelspec": {
   "display_name": "Python 3",
   "language": "python",
   "name": "python3"
  },
  "language_info": {
   "codemirror_mode": {
    "name": "ipython",
    "version": 3
   },
   "file_extension": ".py",
   "mimetype": "text/x-python",
   "name": "python",
   "nbconvert_exporter": "python",
   "pygments_lexer": "ipython3",
   "version": "3.6.7"
  }
 },
 "nbformat": 4,
 "nbformat_minor": 2
}
